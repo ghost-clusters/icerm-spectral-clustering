{
 "cells": [
  {
   "cell_type": "code",
   "execution_count": 1,
   "metadata": {},
   "outputs": [],
   "source": [
    "import numpy as np\n",
    "import scipy as sp\n",
    "import networkx as nx\n",
    "from Kmeans import kmeans\n",
    "from normalized_spectral_clustering_shi import laplacian_matrix, similarity_matrix\n",
    "from datasets import gaussian_mixture\n",
    "from scipy import linalg\n",
    "import matplotlib.pyplot as plt\n",
    "from mpl_toolkits.mplot3d import Axes3D\n",
    "from spectral_clustering import spectral_clustering\n",
    "from tqdm import tqdm"
   ]
  },
  {
   "cell_type": "markdown",
   "metadata": {},
   "source": [
    "## Data Generation"
   ]
  },
  {
   "cell_type": "code",
   "execution_count": 31,
   "metadata": {},
   "outputs": [
    {
     "name": "stdout",
     "output_type": "stream",
     "text": [
      "[-3.12873186  2.34401663]\n"
     ]
    },
    {
     "data": {
      "image/png": "[encoded data removed]",
      "text/plain": [
       "<Figure size 432x288 with 1 Axes>"
      ]
     },
     "metadata": {
      "needs_background": "light"
     },
     "output_type": "display_data"
    }
   ],
   "source": [
    "from datasets import gaussian_mixture\n",
    "\n",
    "n_gaussians = 5\n",
    "n_pts = 4\n",
    "n = n_pts * n_gaussians\n",
    "d = 2\n",
    "\n",
    "data = gaussian_mixture(n_gaussians, n_pts, d, centroid_var=10)\n",
    "\n",
    "data = data.T\n",
    "print(data[0])\n",
    "\n",
    "plt.scatter(*data.T)\n",
    "plt.xlabel(\"$x_1$\")\n",
    "plt.ylabel(\"$x_2$\")\n",
    "plt.title(\"Sample of Gaussian Mixture\")\n",
    "plt.show()"
   ]
  },
  {
   "cell_type": "markdown",
   "metadata": {},
   "source": [
    "## Construct Transition Matrix\n"
   ]
  },
  {
   "cell_type": "code",
   "execution_count": 33,
   "metadata": {},
   "outputs": [],
   "source": [
    "weights = similarity_matrix(data)\n",
    "laplacian, degreeinv = laplacian_matrix(data)\n",
    "\n",
    "p = degreeinv @ weights"
   ]
  },
  {
   "cell_type": "markdown",
   "metadata": {},
   "source": [
    "## Distribution of the First Step\n",
    "For a fixed point, in this case the first data point (2 dimensional), we can look at the first row of p as a finite distribution, and we can extrapolate which vertices the first data point may respond to.\n",
    "\n",
    "However I don't know how to do that, so in a novel application of Central Limit Theorem, I will just multiply the first row by a large number and see what happens"
   ]
  },
  {
   "cell_type": "code",
   "execution_count": 42,
   "metadata": {},
   "outputs": [
    {
     "name": "stdout",
     "output_type": "stream",
     "text": [
      "3334.3826669532227\n",
      "5199.021680005841\n",
      "22.253970587580888\n",
      "1444.3416824273459\n",
      "2.576236845311174e-08\n",
      "1.5793122759699526e-11\n",
      "4.430849347049343e-12\n",
      "2.1164586197135915e-10\n",
      "3.8402164686722867e-33\n",
      "3.0662811945954693e-46\n",
      "2.023658889732244e-33\n",
      "5.7828836109337796e-33\n",
      "1.7216825501457385e-11\n",
      "1.95961910483987e-18\n",
      "3.592731345625575e-17\n",
      "4.3645105922240575e-13\n",
      "9.260690745865333e-19\n",
      "2.7784772968688804e-24\n",
      "7.335175577986772e-16\n",
      "3.8473176545136254e-17\n"
     ]
    }
   ],
   "source": [
    "j = 5 #number from 0 to n-1\n",
    "x = p[j]*10000\n",
    "for i in range(n):\n",
    "    print(x[i])"
   ]
  },
  {
   "cell_type": "markdown",
   "metadata": {},
   "source": [
    "Here, we see that vertices exhibit a clear preference to certain other vertices. Let's collect a set of vertices for each vertex, where we store vertices that are oft visited by the vertex indexing this set. We can interpret the scalar of 10000 to be 10000 \"first steps.\" Let's first include vertices that were visited at least once, and see how the vertices organize themselves."
   ]
  },
  {
   "cell_type": "code",
   "execution_count": 43,
   "metadata": {},
   "outputs": [
    {
     "name": "stdout",
     "output_type": "stream",
     "text": [
      "[0, 1, 2, 3]\n",
      "[0, 1, 2, 3]\n",
      "[0, 1, 2, 3]\n",
      "[0, 1, 2, 3]\n",
      "[0, 1, 2, 3]\n",
      "[0, 1, 2, 3]\n",
      "[0, 1, 2, 3]\n",
      "[0, 1, 2, 3]\n",
      "[0, 1, 2, 3]\n",
      "[0, 1, 2, 3]\n",
      "[0, 1, 2, 3]\n",
      "[0, 1, 2, 3]\n",
      "[0, 1, 2, 3]\n",
      "[0, 1, 2, 3]\n",
      "[0, 1, 2, 3]\n",
      "[0, 1, 2, 3]\n",
      "[0, 1, 2, 3]\n",
      "[0, 1, 2, 3]\n",
      "[0, 1, 2, 3]\n",
      "[0, 1, 2, 3]\n"
     ]
    },
    {
     "data": {
      "image/png": "[encoded data removed]",
      "text/plain": [
       "<Figure size 432x288 with 1 Axes>"
      ]
     },
     "metadata": {
      "needs_background": "light"
     },
     "output_type": "display_data"
    }
   ],
   "source": [
    "# Let A be a set of sets such that A[i] consists of the vertices that i visited at least once in 10000 first steps.\n",
    "A=[]\n",
    "for i in range(n):\n",
    "    x= p[i]*10000\n",
    "    A_i = []\n",
    "    for j in range(n):\n",
    "        if x[j] >= 1:\n",
    "            A_i.append(j)\n",
    "            plt.scatter(i,j)\n",
    "    A.append(A_i)\n",
    "    print(A_i)\n",
    "    \n",
    "plt.xlabel(\"i\")\n",
    "plt.ylabel(\"j\")\n",
    "plt.title(\"points j regularly in one step of i\")\n",
    "plt.show()"
   ]
  },
  {
   "cell_type": "markdown",
   "metadata": {},
   "source": [
    "## Observations\n",
    "vertex i appears in A[i] for all i\n",
    "\n",
    "if vertex j appears in A[i], vertex i appears in A[j]\n",
    "This is expected behavior, as the graph is undirected\n",
    "\n",
    "\n",
    "there appear to be broader trends, how can we substantiate them precisely?\n",
    "Questions:\n",
    "\n",
    "If vertices x,y appear in set z, how likely is it that that (WLOG) vertices y, z appear in set x? Is there a lower bound on inclusion in set i that guarantees this for any given distribution?\n",
    "\n"
   ]
  },
  {
   "cell_type": "code",
   "execution_count": null,
   "metadata": {},
   "outputs": [],
   "source": []
  },
  {
   "cell_type": "code",
   "execution_count": null,
   "metadata": {},
   "outputs": [],
   "source": []
  }
 ],
 "metadata": {
  "kernelspec": {
   "display_name": "Python 3",
   "language": "python",
   "name": "python3"
  },
  "language_info": {
   "codemirror_mode": {
    "name": "ipython",
    "version": 3
   },
   "file_extension": ".py",
   "mimetype": "text/x-python",
   "name": "python",
   "nbconvert_exporter": "python",
   "pygments_lexer": "ipython3",
   "version": "3.8.3"
  }
 },
 "nbformat": 4,
 "nbformat_minor": 4
}
