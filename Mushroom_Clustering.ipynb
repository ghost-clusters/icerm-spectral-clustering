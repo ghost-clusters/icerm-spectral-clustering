{
 "cells": [
  {
   "cell_type": "code",
   "execution_count": 19,
   "metadata": {},
   "outputs": [],
   "source": [
    "from lib.spectral_clustering import spectral_clustering\n",
    "from lib.categorical_similarity_functions import categorical_preprocessing_csv\n",
    "import matplotlib.pyplot as plt\n",
    "from mpl_toolkits.mplot3d import Axes3D\n",
    "import numpy as np"
   ]
  },
  {
   "cell_type": "markdown",
   "metadata": {},
   "source": [
    "First thing's first, we need to take our csv file and make it something that we can work with."
   ]
  },
  {
   "cell_type": "code",
   "execution_count": 3,
   "metadata": {},
   "outputs": [],
   "source": [
    "numOfAtts, data = categorical_preprocessing_csv(\"lib/data/mushrooms.csv\")"
   ]
  },
  {
   "cell_type": "markdown",
   "metadata": {},
   "source": [
    "Now, let's take that data and cluster it!"
   ]
  },
  {
   "cell_type": "code",
   "execution_count": 7,
   "metadata": {},
   "outputs": [
    {
     "name": "stdout",
     "output_type": "stream",
     "text": [
      "Please be a real thing:  [[1.         0.96085267 0.95796875 ... 0.9229095  0.94593881 0.92519783]\n",
      " [0.96085267 1.         0.99351086 ... 0.95104249 0.91610079 0.95333082]\n",
      " [0.95796875 0.99351086 1.         ... 0.95163808 0.91610079 0.95104249]\n",
      " ...\n",
      " [0.9229095  0.95104249 0.95163808 ... 1.         0.91495269 0.99606841]\n",
      " [0.94593881 0.91610079 0.91610079 ... 0.91495269 1.         0.91495269]\n",
      " [0.92519783 0.95333082 0.95104249 ... 0.99606841 0.91495269 1.        ]]\n"
     ]
    }
   ],
   "source": [
    "assns = spectral_clustering(data,2,\"rw\",numOfAtts=numOfAtts)"
   ]
  },
  {
   "cell_type": "code",
   "execution_count": 8,
   "metadata": {},
   "outputs": [
    {
     "name": "stdout",
     "output_type": "stream",
     "text": [
      "[1 0 0 ... 0 1 0]\n"
     ]
    }
   ],
   "source": [
    "print(assns)"
   ]
  },
  {
   "cell_type": "markdown",
   "metadata": {},
   "source": [
    "Hooray! We have our assignments! Now, we need to be able to compare these assignments to the actual data (we want to see how well we clustered the data into poisonous and edible)."
   ]
  },
  {
   "cell_type": "code",
   "execution_count": 29,
   "metadata": {},
   "outputs": [
    {
     "name": "stdout",
     "output_type": "stream",
     "text": [
      "['p' 'e' 'e' ... 'e' 'p' 'e']\n",
      "(8124,)\n"
     ]
    }
   ],
   "source": [
    "data = np.array(data.T)\n",
    "verify = data[0] # @Max I called it verify because I want to verify the clusters\n",
    "print(verify)\n",
    "print(verify.shape)"
   ]
  },
  {
   "cell_type": "markdown",
   "metadata": {},
   "source": [
    "Now that we have taken the first column and reshaped the data, we can convert our 'p''s to 1's and 'e''s to 0's so we can compare this vector to our assignments."
   ]
  },
  {
   "cell_type": "code",
   "execution_count": 40,
   "metadata": {},
   "outputs": [
    {
     "name": "stdout",
     "output_type": "stream",
     "text": [
      "[1 0 0 ... 0 1 0]\n"
     ]
    }
   ],
   "source": [
    "bindata = [] # @Max I called it bindata because i'm taking the data and converting it to 0's and 1's, like binary\n",
    "for i in range(len(verify)):\n",
    "    if verify[i]=='p':\n",
    "        bindata.append(1)\n",
    "    elif verify[i] == 'e':\n",
    "        bindata.append(0)\n",
    "bindata = np.array(bindata)\n",
    "print(bindata)"
   ]
  },
  {
   "cell_type": "markdown",
   "metadata": {},
   "source": [
    "Now, we'll compute the error by taking the norm of the difference between the cluster assignments vector and the actual categorical assignments of the mushrooms."
   ]
  },
  {
   "cell_type": "code",
   "execution_count": 47,
   "metadata": {},
   "outputs": [
    {
     "name": "stdout",
     "output_type": "stream",
     "text": [
      "0.002892008893271967\n"
     ]
    }
   ],
   "source": [
    "errvec = assns-bindata # @Max I called it errvec because i'm going to use it to compute the error\n",
    "n= error.shape[0]\n",
    "err = np.linalg.norm(error)/n\n",
    "print(err)"
   ]
  },
  {
   "cell_type": "markdown",
   "metadata": {},
   "source": [
    "This does pretty well! But it's also worth noting that we use the column that tells us whether a mushroom is poisonous or not to make our clusters. To get a more accurate representation of how well our clustering algorithm works, we should ignore this column when we cluster and then make the same comparison as we did here."
   ]
  }
 ],
 "metadata": {
  "kernelspec": {
   "display_name": "Python 3",
   "language": "python",
   "name": "python3"
  },
  "language_info": {
   "codemirror_mode": {
    "name": "ipython",
    "version": 3
   },
   "file_extension": ".py",
   "mimetype": "text/x-python",
   "name": "python",
   "nbconvert_exporter": "python",
   "pygments_lexer": "ipython3",
   "version": "3.8.3"
  }
 },
 "nbformat": 4,
 "nbformat_minor": 4
}
