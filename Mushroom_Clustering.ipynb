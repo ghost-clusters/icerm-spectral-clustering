{
 "cells": [
  {
   "cell_type": "markdown",
   "metadata": {},
   "source": [
    "# Graph Spectral Clustering for the Mushrooms Dataset\n",
    "\n",
    "Can we use GSC to cluster the Mushrooms Dataset? From the [UCI Machine Learning repository](https://archive.ics.uci.edu/ml/datasets/Mushroom)."
   ]
  },
  {
   "cell_type": "code",
   "execution_count": 8,
   "metadata": {},
   "outputs": [],
   "source": [
    "from lib.spectral_clustering import spectral_clustering\n",
    "from lib.categorical_similarity_functions import categorical_preprocessing_csv\n",
    "import matplotlib.pyplot as plt\n",
    "from mpl_toolkits.mplot3d import Axes3D\n",
    "#from sklearn.decomposition import PCA\n",
    "import numpy as np"
   ]
  },
  {
   "cell_type": "markdown",
   "metadata": {},
   "source": [
    "First thing's first, we need to take our csv file and make it something that we can work with."
   ]
  },
  {
   "cell_type": "code",
   "execution_count": null,
   "metadata": {},
   "outputs": [],
   "source": [
    "numOfAtts, dataA = categorical_preprocessing_csv(\"scripts/data/mushrooms.csv\")"
   ]
  },
  {
   "cell_type": "markdown",
   "metadata": {},
   "source": [
    "Now, let's take that data and cluster it!"
   ]
  },
  {
   "cell_type": "markdown",
   "metadata": {},
   "source": [
    "Hooray! We have our assignments! Now, we need to be able to compare these assignments to the actual data (we want to see how well we clustered the data into poisonous and edible)."
   ]
  },
  {
   "cell_type": "markdown",
   "metadata": {},
   "source": [
    "Now that we have taken the first column and reshaped the data, we can convert our 'p''s to 1's and 'e''s to 0's so we can compare this vector to our assignments."
   ]
  },
  {
   "cell_type": "markdown",
   "metadata": {},
   "source": [
    "Now, we'll compute the error by taking the norm of the difference between the cluster assignments vector and the actual categorical assignments of the mushrooms."
   ]
  },
  {
   "cell_type": "markdown",
   "metadata": {},
   "source": [
    "This does pretty well! But it's also worth noting that we use the column that tells us whether a mushroom is poisonous or not to make our clusters. To get a more accurate representation of how well our clustering algorithm works, we should ignore this column when we cluster and then make the same comparison as we did here. "
   ]
  },
  {
   "cell_type": "code",
   "execution_count": null,
   "metadata": {},
   "outputs": [],
   "source": [
    "data = dataA.T[1:]\n",
    "data = data.T\n",
    "numOfAtts = numOfAtts[1:]\n",
    "print(data.shape)\n",
    "print(numOfAtts.shape)"
   ]
  },
  {
   "cell_type": "code",
   "execution_count": null,
   "metadata": {},
   "outputs": [],
   "source": [
    "assns, SandU = spectral_clustering(data,2,\"rw\", with_eigen = True, numOfAtts=numOfAtts)\n",
    "print(assns)"
   ]
  },
  {
   "cell_type": "code",
   "execution_count": null,
   "metadata": {},
   "outputs": [],
   "source": [
    "dataT = np.array(dataA.T)\n",
    "verify = dataT[0] \n",
    "bindata = [] \n",
    "for i in range(len(verify)):\n",
    "    if verify[i]=='p':\n",
    "        bindata.append(0)\n",
    "    elif verify[i] == 'e':\n",
    "        bindata.append(1)\n",
    "bindata = np.array(bindata)\n",
    "errvec = assns-bindata \n",
    "n= errvec.shape[0]\n",
    "err = np.linalg.norm(errvec)/n\n",
    "print(err)\n",
    "\n",
    "# to check in how many spots the assingments match reality\n",
    "count=0\n",
    "for i in range(len(errvec)):\n",
    "    if errvec[i]==0:\n",
    "        count +=1\n",
    "print(count)"
   ]
  },
  {
   "cell_type": "markdown",
   "metadata": {},
   "source": [
    "Seeing the error is nice and all, but we all know that visuals are where it's at. The only problem is that our data is HUGE. So, why don't we take advantage of the dimension reduction done by spectral clustering, and project our data into $\\mathbb{R}^2$? "
   ]
  },
  {
   "cell_type": "code",
   "execution_count": null,
   "metadata": {},
   "outputs": [],
   "source": [
    "print(verify[0:30])\n",
    "print(bindata[0:30])\n",
    "print(assns[0:30])\n",
    "S, U = SandU\n",
    "print(U.shape)"
   ]
  },
  {
   "cell_type": "markdown",
   "metadata": {},
   "source": [
    "To represent our clusters, we use PCA to find the k dominant features of our 22-dimensional data. To do this, we need to first normalize our data matrix so that it has mean 0 and variance 1 (depending on if we think features are independent or dependent of the variance). Then we find the k eigenvectors corresponding to the largest k eigenvalues of the covariance matrix $\\frac{1}{n}X^TX$. These k eigenvectors are what we call the principal components and maximize the variance."
   ]
  },
  {
   "cell_type": "code",
   "execution_count": null,
   "metadata": {},
   "outputs": [],
   "source": [
    "# each row is a mushroom\n",
    "# center each column to 0\n",
    "rows, column = np.shape(data)\n",
    "means_of_columns = np.mean(data, axis = 0) #22 * 1 vector of means\n",
    "normalized_data = np.zeros(np.shape(data)).T #22*8000 matrix\n",
    "# center each coordinate of data\n",
    "for i in range(columns):\n",
    "    normalized_data[i] = data.T[i] - means_of_columns[i] \n",
    "pca = PCA(n_components = 2) #if we want 2 components\n",
    "pca.fit(X)\n",
    "components = pca.components_ #2 vectors corresponding to the principle axes\n",
    "\n",
    "# project each data point onto the 2 components\n",
    "projection_matrix = np.array(components).T #columns are the components\n",
    "projected_data = data @ projection_matrix #best representation of 22-dim in 2-dim"
   ]
  }
 ],
 "metadata": {
  "kernelspec": {
   "display_name": "Python 3",
   "language": "python",
   "name": "python3"
  }
 },
 "nbformat": 4,
 "nbformat_minor": 4
}
