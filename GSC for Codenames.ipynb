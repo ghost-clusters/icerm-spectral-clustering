{
 "cells": [
  {
   "cell_type": "markdown",
   "metadata": {},
   "source": [
    "# Graph Spectral Clustering for Codenames\n",
    "\n",
    "Codenames is a party game where players need to hint at words by providing other words that have something in common. Can we use Graph Spectral Clustering to find groups of similar words?\n",
    "\n",
    "We use GloVE embeddings of Wikipedia as vectorized representations of words."
   ]
  },
  {
   "cell_type": "code",
   "execution_count": 2,
   "metadata": {},
   "outputs": [],
   "source": [
    "from lib.datasets import load_wikipedia_wordvecs\n",
    "from lib.spectral_clustering import similarity_matrix, laplacian_matrix, spectral_clustering\n",
    "import numpy as np\n",
    "import matplotlib.pyplot as plt"
   ]
  },
  {
   "cell_type": "code",
   "execution_count": 3,
   "metadata": {},
   "outputs": [],
   "source": [
    "words, vecs = load_wikipedia_wordvecs().values()"
   ]
  },
  {
   "cell_type": "code",
   "execution_count": 4,
   "metadata": {},
   "outputs": [],
   "source": [
    "def similarity_matrix(data, s=1):\n",
    "    n = len(data)\n",
    "    scale = [np.sum(np.linalg.norm( data - x.reshape((1, -1)), axis=0)) for x in data ]\n",
    "    similarity_matrix = np.zeros((n, n))\n",
    "\n",
    "    for i in range(n):\n",
    "        for j in range(n):\n",
    "            similarity_matrix[i][j] = s * np.linalg.norm(data[i] - data[j]) / (scale[i]+scale[j])\n",
    "    return similarity_matrix"
   ]
  },
  {
   "cell_type": "code",
   "execution_count": 5,
   "metadata": {},
   "outputs": [],
   "source": [
    "codenames = \"penguin,Germany,spy,battery,stadium,opera,shop,ambulance,brush,forest,Mexico,beat,fire,whip,\\\n",
    "switch,horse,band,deck,concert,horn,link,charge,row,line,lock\".split(\",\")\n",
    "indices = np.array([words.index(c) for c in codenames])\n",
    "\n",
    "\n",
    "word_vecs = vecs[indices]\n",
    "\n",
    "s = similarity_matrix(word_vecs)\n"
   ]
  },
  {
   "cell_type": "code",
   "execution_count": 6,
   "metadata": {},
   "outputs": [],
   "source": [
    "k = 14\n",
    "assns, (evals, evecs) = spectral_clustering(word_vecs, k=k, lform = \"rw\", metric=\"g\", s=0.5, with_eigen=True)"
   ]
  },
  {
   "cell_type": "code",
   "execution_count": 7,
   "metadata": {},
   "outputs": [
    {
     "data": {
      "text/plain": [
       "[['Germany'],\n",
       " ['penguin'],\n",
       " ['whip'],\n",
       " ['Mexico'],\n",
       " ['horse'],\n",
       " ['forest'],\n",
       " ['horn'],\n",
       " ['spy',\n",
       "  'battery',\n",
       "  'brush',\n",
       "  'beat',\n",
       "  'switch',\n",
       "  'band',\n",
       "  'concert',\n",
       "  'link',\n",
       "  'charge',\n",
       "  'row',\n",
       "  'lock'],\n",
       " ['deck'],\n",
       " ['shop'],\n",
       " ['stadium'],\n",
       " ['opera'],\n",
       " ['line'],\n",
       " ['ambulance', 'fire']]"
      ]
     },
     "execution_count": 7,
     "metadata": {},
     "output_type": "execute_result"
    }
   ],
   "source": [
    "[[codenames[j] for j in range(len(codenames)) if assns[j] == i] for i in range(k)]"
   ]
  },
  {
   "cell_type": "code",
   "execution_count": 8,
   "metadata": {},
   "outputs": [],
   "source": [
    "def avg_vec(words, candidates, vocabulary):\n",
    "    # words is a list of word strings\n",
    "    # candidates is a Nx300 dataset of all candidate word vectors\n",
    "    # vocabulary is a list of word strings, 1 per vector in candidate\n",
    "    mean = np.mean([candidates[vocabulary.index(word)] for word in words], axis=0).reshape((1, -1))\n",
    "    diff = np.linalg.norm(candidates - mean, axis=0)\n",
    "    return vocabulary[np.argmin(diff)]"
   ]
  },
  {
   "cell_type": "code",
   "execution_count": 9,
   "metadata": {},
   "outputs": [
    {
     "data": {
      "text/plain": [
       "'hold'"
      ]
     },
     "execution_count": 9,
     "metadata": {},
     "output_type": "execute_result"
    }
   ],
   "source": [
    "avg_vec(('fly', 'Moscow'), vecs, words)"
   ]
  }
 ],
 "metadata": {
  "kernelspec": {
   "display_name": "Python 3",
   "language": "python",
   "name": "python3"
  },
  "language_info": {
   "codemirror_mode": {
    "name": "ipython",
    "version": 3
   },
   "file_extension": ".py",
   "mimetype": "text/x-python",
   "name": "python",
   "nbconvert_exporter": "python",
   "pygments_lexer": "ipython3",
   "version": "3.7.4"
  }
 },
 "nbformat": 4,
 "nbformat_minor": 4
}
