{
 "cells": [
  {
   "cell_type": "markdown",
   "metadata": {},
   "source": [
    "# Logistic Regression for Feature Selection\n",
    "\n",
    "Want:\n",
    "- Find an embedding for discrete labels of the shrooms data\n",
    "- Use the embedding as logistic regression features to predict edible?\n",
    "- Use L1 penalty\n",
    "- Select nonzero coeffs after gradient descent for logistic regression"
   ]
  },
  {
   "cell_type": "code",
   "execution_count": 21,
   "metadata": {},
   "outputs": [],
   "source": [
    "import numpy as np\n",
    "import sklearn as sk\n",
    "import sklearn.preprocessing\n",
    "import sklearn.metrics \n",
    "import matplotlib.pyplot as plt\n",
    "\n",
    "with open(\"scripts/data/mushrooms.csv\", \"r\") as f_in:\n",
    "    data = np.array([ line.split(\",\") for line in f_in.read().split(\"\\n\")])\n",
    "    labels = data[0]\n",
    "    data = data[1:]\n",
    "    x_cat,y_cat = data[:, 1:], data[:, 0]"
   ]
  },
  {
   "cell_type": "code",
   "execution_count": 2,
   "metadata": {},
   "outputs": [],
   "source": [
    "\n",
    "y = (y_cat == \"e\")\n",
    "enc = sk.preprocessing.OneHotEncoder()\n",
    "enc.fit(x_cat)\n",
    "x = enc.transform(x_cat).toarray()\n",
    "\n",
    "n, d = x.shape\n",
    "\n",
    "num_train = int(n * 0.8)\n",
    "\n",
    "x_train, x_test = x[:num_train], x[num_train:]\n",
    "y_train, y_test = y[:num_train], y[num_train:]"
   ]
  },
  {
   "cell_type": "code",
   "execution_count": 3,
   "metadata": {
    "scrolled": false
   },
   "outputs": [],
   "source": [
    "x_ = np.copy(x_train)\n",
    "x_[y_train==0] = -x_[y_train==0]\n",
    "\n",
    "def logistic(x):\n",
    "    return 1 / (1 + np.exp(-x))\n",
    "\n",
    "def grad(theta, lmbda):\n",
    "    return np.sum((1 - logistic(x_ @ theta)) * x_, axis=0)[:, None] - lmbda * np.sign(theta)\n",
    "\n",
    "itrs = 1000\n",
    "lr = 0.001\n",
    "l1_penalty = 10\n",
    "\n",
    "theta = np.random.normal(size=(d, 1), scale=0.1)\n",
    "for i in range(itrs):\n",
    "    theta = theta + lr * grad(theta, l1_penalty)"
   ]
  },
  {
   "cell_type": "code",
   "execution_count": 17,
   "metadata": {},
   "outputs": [],
   "source": [
    "def evaluate(theta_thresh=0):\n",
    "    theta_thresh = theta * (theta > theta_thresh)\n",
    "    y_prob_thresh = logistic(x_test @ theta_thresh)\n",
    "    y_est_thresh = (y_prob_thresh > 0.5)\n",
    "    conf = sk.metrics.confusion_matrix(y_test, y_est_thresh)\n",
    "    print(\"Confusion Matrix:\")\n",
    "    print(conf)\n",
    "    print(f\"Accuracy: {np.sum(np.diag(conf)) / np.sum(conf)}\")\n",
    "    print(f\"Number of features: {np.sum(theta_thresh != 0)}\")\n",
    "    print(f\"Important feature indices: {np.where(theta_thresh.flatten() != 0)}\")\n",
    "    return theta_thresh, np.where(theta_thresh.flatten() != 0)[0]"
   ]
  },
  {
   "cell_type": "code",
   "execution_count": 18,
   "metadata": {},
   "outputs": [
    {
     "name": "stdout",
     "output_type": "stream",
     "text": [
      "Confusion Matrix:\n",
      "[[1110    8]\n",
      " [   0  507]]\n",
      "Accuracy: 0.9950769230769231\n",
      "Number of features: 3\n",
      "Important feature indices: (array([22, 25, 27]),)\n"
     ]
    }
   ],
   "source": [
    "theta_thresh, features = evaluate(theta_thresh=1)"
   ]
  },
  {
   "cell_type": "code",
   "execution_count": 19,
   "metadata": {},
   "outputs": [
    {
     "name": "stdout",
     "output_type": "stream",
     "text": [
      "[['b' 'f' 'b' 'f' 'a' 'a' 'c' 'b' 'b' 'e' '?' 'f' 'f' 'b' 'b' 'p' 'n' 'n'\n",
      "  'e' 'b' 'a' 'd']]\n",
      "[['b' 'f' 'b' 'f' 'l' 'a' 'c' 'b' 'b' 'e' '?' 'f' 'f' 'b' 'b' 'p' 'n' 'n'\n",
      "  'e' 'b' 'a' 'd']]\n",
      "[['b' 'f' 'b' 'f' 'n' 'a' 'c' 'b' 'b' 'e' '?' 'f' 'f' 'b' 'b' 'p' 'n' 'n'\n",
      "  'e' 'b' 'a' 'd']]\n",
      "[['b' 'f' 'b' 'f' 'a' 'a' 'c' 'b' 'b' 'e' '?' 'f' 'f' 'b' 'b' 'p' 'n' 'n'\n",
      "  'e' 'b' 'a' 'd']]\n"
     ]
    }
   ],
   "source": [
    "fs = [np.zeros((1,d)) for _ in range(len(features))]\n",
    "for i, feat in enumerate(features):\n",
    "    fs[i][0, feat] = 1\n",
    "    print(enc.inverse_transform(fs[i]))\n",
    "print(enc.inverse_transform(np.zeros((1,d))))"
   ]
  },
  {
   "cell_type": "code",
   "execution_count": 22,
   "metadata": {},
   "outputs": [
    {
     "name": "stdout",
     "output_type": "stream",
     "text": [
      "bruises\n"
     ]
    }
   ],
   "source": [
    "print(labels[4])"
   ]
  },
  {
   "cell_type": "code",
   "execution_count": 26,
   "metadata": {},
   "outputs": [
    {
     "name": "stdout",
     "output_type": "stream",
     "text": [
      "['a' 'c' 'f' 'l' 'm' 'n' 'p' 's' 'y']\n"
     ]
    }
   ],
   "source": [
    "print(np.unique(data[:, 5]))"
   ]
  },
  {
   "cell_type": "code",
   "execution_count": 27,
   "metadata": {},
   "outputs": [
    {
     "name": "stdout",
     "output_type": "stream",
     "text": [
      "odor\n"
     ]
    }
   ],
   "source": [
    "print(labels[5])"
   ]
  },
  {
   "cell_type": "code",
   "execution_count": 31,
   "metadata": {},
   "outputs": [
    {
     "name": "stdout",
     "output_type": "stream",
     "text": [
      "[ True  True  True  True  True  True  True False  True  True  True  True\n",
      "  True  True False  True  True  True  True  True  True  True  True  True\n",
      "  True  True False  True  True False False  True  True  True  True  True\n",
      "  True  True  True  True  True  True  True  True  True  True  True  True\n",
      " False  True False  True  True  True  True  True  True  True False  True\n",
      "  True  True  True  True  True  True  True  True  True  True  True  True\n",
      "  True  True False False False  True  True  True  True  True  True  True\n",
      "  True  True  True  True  True  True  True  True  True  True  True  True\n",
      "  True  True  True  True  True  True  True  True  True False  True  True\n",
      "  True False  True  True  True  True  True  True  True  True  True  True\n",
      " False  True  True  True  True  True  True  True  True  True  True  True\n",
      "  True  True  True  True  True  True  True  True  True False  True  True\n",
      "  True  True  True  True  True False  True  True  True  True  True  True\n",
      "  True  True  True  True False  True  True  True  True  True  True  True\n",
      "  True  True  True  True  True  True  True  True  True  True  True  True\n",
      "  True  True  True  True  True  True  True  True  True  True  True  True\n",
      "  True  True  True  True  True  True  True  True  True  True  True  True\n",
      " False  True  True  True  True  True]\n"
     ]
    }
   ],
   "source": [
    "print(y[x_cat[:, 5] == \"a\"])"
   ]
  },
  {
   "cell_type": "code",
   "execution_count": 33,
   "metadata": {},
   "outputs": [
    {
     "name": "stdout",
     "output_type": "stream",
     "text": [
      "[]\n"
     ]
    }
   ],
   "source": [
    "print(y[x_cat[:, 5] == \"l\"])"
   ]
  },
  {
   "cell_type": "code",
   "execution_count": null,
   "metadata": {},
   "outputs": [],
   "source": []
  }
 ],
 "metadata": {
  "kernelspec": {
   "display_name": "Python 3",
   "language": "python",
   "name": "python3"
  },
  "language_info": {
   "codemirror_mode": {
    "name": "ipython",
    "version": 3
   },
   "file_extension": ".py",
   "mimetype": "text/x-python",
   "name": "python",
   "nbconvert_exporter": "python",
   "pygments_lexer": "ipython3",
   "version": "3.7.4"
  }
 },
 "nbformat": 4,
 "nbformat_minor": 2
}
