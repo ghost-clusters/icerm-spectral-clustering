{
 "cells": [
  {
   "cell_type": "markdown",
   "metadata": {},
   "source": [
    "# Logistic Regression for Feature Selection\n",
    "\n",
    "Want:\n",
    "- Find an embedding for discrete labels of the shrooms data\n",
    "- Use the embedding as logistic regression features to predict edible?\n",
    "- Use L1 penalty\n",
    "- Select nonzero coeffs after gradient descent for logistic regression"
   ]
  },
  {
   "cell_type": "code",
   "execution_count": 3,
   "metadata": {},
   "outputs": [],
   "source": [
    "import numpy as np\n",
    "import sklearn as sk\n",
    "import sklearn.preprocessing\n",
    "import sklearn.metrics \n",
    "import matplotlib.pyplot as plt\n",
    "\n",
    "with open(\"scripts/data/mushrooms.csv\", \"r\") as f_in:\n",
    "    data = np.array([ line.split(\",\") for line in f_in.read().split(\"\\n\")])\n",
    "    labels = data[1:]\n",
    "    data = data[1:]\n",
    "    x_cat,y_cat = data[:, 1:], data[:, 0]"
   ]
  },
  {
   "cell_type": "code",
   "execution_count": 4,
   "metadata": {},
   "outputs": [],
   "source": [
    "\n",
    "y = (y_cat == \"e\")\n",
    "enc = sk.preprocessing.OneHotEncoder()\n",
    "enc.fit(x_cat)\n",
    "x = enc.transform(x_cat).toarray()\n",
    "\n",
    "n, d = x.shape\n",
    "\n",
    "num_train = int(n * 0.8)\n",
    "\n",
    "x_train, x_test = x[:num_train], x[num_train:]\n",
    "y_train, y_test = y[:num_train], y[num_train:]"
   ]
  },
  {
   "cell_type": "code",
   "execution_count": 5,
   "metadata": {
    "scrolled": false
   },
   "outputs": [],
   "source": [
    "x_ = np.copy(x_train)\n",
    "x_[y_train==0] = -x_[y_train==0]\n",
    "\n",
    "def logistic(x):\n",
    "    return 1 / (1 + np.exp(-x))\n",
    "\n",
    "def grad(theta, lmbda):\n",
    "    return np.sum((1 - logistic(x_ @ theta)) * x_, axis=0)[:, None] - lmbda * np.sign(theta)\n",
    "\n",
    "itrs = 1000\n",
    "lr = 0.001\n",
    "l1_penalty = 10\n",
    "\n",
    "theta = np.random.normal(size=(d, 1), scale=0.1)\n",
    "for i in range(itrs):\n",
    "    theta = theta + lr * grad(theta, l1_penalty)"
   ]
  },
  {
   "cell_type": "code",
   "execution_count": 32,
   "metadata": {},
   "outputs": [],
   "source": [
    "def evaluate(theta_thresh=0):\n",
    "    theta_thresh = theta * (theta > theta_thresh)\n",
    "    y_prob_thresh = logistic(x_test @ theta_thresh)\n",
    "    y_est_thresh = (y_prob_thresh > 0.5)\n",
    "    conf = sk.metrics.confusion_matrix(y_test, y_est_thresh)\n",
    "    print(\"Confusion Matrix:\")\n",
    "    print(conf)\n",
    "    print(f\"Accuracy: {np.sum(np.diag(conf)) / np.sum(conf)}\")\n",
    "    print(f\"Number of features: {np.sum(theta_thresh != 0)}\")\n",
    "    print(f\"Important feature indices: {np.where(theta_thresh.flatten() != 0)}\")"
   ]
  },
  {
   "cell_type": "code",
   "execution_count": 33,
   "metadata": {},
   "outputs": [
    {
     "ename": "TypeError",
     "evalue": "evaluate() got an unexpected keyword argument 'thresh_thresh'",
     "output_type": "error",
     "traceback": [
      "\u001b[0;31m---------------------------------------------------------------------------\u001b[0m",
      "\u001b[0;31mTypeError\u001b[0m                                 Traceback (most recent call last)",
      "\u001b[0;32m<ipython-input-33-45544df6582b>\u001b[0m in \u001b[0;36m<module>\u001b[0;34m\u001b[0m\n\u001b[0;32m----> 1\u001b[0;31m \u001b[0mevaluate\u001b[0m\u001b[0;34m(\u001b[0m\u001b[0mthresh_thresh\u001b[0m\u001b[0;34m=\u001b[0m\u001b[0;36m1\u001b[0m\u001b[0;34m)\u001b[0m\u001b[0;34m\u001b[0m\u001b[0;34m\u001b[0m\u001b[0m\n\u001b[0m",
      "\u001b[0;31mTypeError\u001b[0m: evaluate() got an unexpected keyword argument 'thresh_thresh'"
     ]
    }
   ],
   "source": [
    "evaluate(thresh_thresh=1)"
   ]
  },
  {
   "cell_type": "code",
   "execution_count": null,
   "metadata": {},
   "outputs": [],
   "source": []
  }
 ],
 "metadata": {
  "kernelspec": {
   "display_name": "Python 3",
   "language": "python",
   "name": "python3"
  },
  "language_info": {
   "codemirror_mode": {
    "name": "ipython",
    "version": 3
   },
   "file_extension": ".py",
   "mimetype": "text/x-python",
   "name": "python",
   "nbconvert_exporter": "python",
   "pygments_lexer": "ipython3",
   "version": "3.7.4"
  }
 },
 "nbformat": 4,
 "nbformat_minor": 2
}
