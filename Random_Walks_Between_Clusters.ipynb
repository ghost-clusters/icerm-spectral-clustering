{
 "cells": [
  {
   "cell_type": "markdown",
   "metadata": {},
   "source": [
    "# Cumulative Eigenvector Clustering"
   ]
  },
  {
   "cell_type": "markdown",
   "metadata": {},
   "source": [
    "What is the impact of each eigenvector to the normalized spectral clustering algorithm? While incrementing $k$, the number of clusters, how do the clusterings change?"
   ]
  },
  {
   "cell_type": "code",
   "execution_count": 26,
   "metadata": {},
   "outputs": [],
   "source": [
    "from lib.spectral_clustering import spectral_clustering, laplacian_matrix, similarity_matrix\n",
    "from lib.datasets import gaussian_mixture\n",
    "from lib.kmeans import kmeans\n",
    "import matplotlib.pyplot as plt\n",
    "import numpy as np\n",
    "import scipy as sp\n",
    "from matplotlib import cm\n",
    "from tqdm import tqdm\n",
    "\n",
    "cmap = cm.get_cmap(\"tab20\")\n",
    "unif_colors = [cmap(intensity) for intensity in np.linspace(0, 1, n)]"
   ]
  },
  {
   "cell_type": "markdown",
   "metadata": {},
   "source": [
    "## Data generation"
   ]
  },
  {
   "cell_type": "code",
   "execution_count": 40,
   "metadata": {},
   "outputs": [
    {
     "data": {
      "image/png": "[encoded data removed]",
      "text/plain": [
       "<Figure size 432x288 with 1 Axes>"
      ]
     },
     "metadata": {
      "needs_background": "light"
     },
     "output_type": "display_data"
    }
   ],
   "source": [
    "n_gaussians = 5\n",
    "n_pts = 4\n",
    "n = n_pts * n_gaussians\n",
    "d = 2\n",
    "\n",
    "data = gaussian_mixture(n_gaussians, n_pts, d, centroid_var=10)\n",
    "\n",
    "\n",
    "data_graph = similarity_matrix(data)\n",
    "transition_matrix = data_graph / np.sum(data_graph, axis=1).reshape((-1, 1))\n",
    "\n",
    "assns = spectral_clustering(data, k=n_gaussians, lform=\"rw\")\n",
    "\n",
    "data_clusters = [ data[assns == clss].T for clss in range(n_gaussians) ]\n",
    "for j, data_cluster in enumerate(data_clusters):\n",
    "    plt.scatter(*data_cluster, color=unif_colors[j], label=f\"{j}\")\n",
    "    \n",
    "plt.xlabel(\"$x_1$\")\n",
    "plt.ylabel(\"$x_2$\")\n",
    "plt.title(\"Clustered Sample of Gaussian Mixture\")\n",
    "plt.legend()\n",
    "plt.show()"
   ]
  },
  {
   "cell_type": "markdown",
   "metadata": {},
   "source": [
    "## How often will a random walker move between clusters?\n"
   ]
  },
  {
   "cell_type": "code",
   "execution_count": 41,
   "metadata": {},
   "outputs": [],
   "source": [
    "import numpy as np\n",
    "\n",
    "\n",
    "def random_walks(transition_matrix, cluster_assns, iters=1000):\n",
    "    # transition_matrix is nxn graph transition matrix\n",
    "    # cluster_assns (n,) length vector assns\n",
    "\n",
    "    n = len(transition_matrix) # number of nodes\n",
    "    k = np.max(cluster_assns) + 1 # +1 to turn index to length\n",
    "    \n",
    "    rw_assns = np.arange(n)\n",
    "    rw_cluster_assns = cluster_assns[rw_assns]\n",
    "    jump_freqs = np.zeros((k, k))\n",
    "\n",
    "    for i in range(iters):\n",
    "        jump_likelihoods = transition_matrix[rw_assns]\n",
    "        new_rw_assns = np.array([ np.random.choice(n, p=jump_likelihoods[i]) for i in range(n) ])\n",
    "        new_cluster_assns = cluster_assns[new_rw_assns]\n",
    "        \n",
    "        cluster_jumps, counts = np.unique(np.stack((rw_cluster_assns, new_cluster_assns), axis=0), return_counts=True, axis=1)\n",
    "        for i in range(len(counts)):\n",
    "            r, c = cluster_jumps[:, i]\n",
    "            jump_freqs[r, c] += counts[i]\n",
    "\n",
    "        rw_cluster_assns = new_cluster_assns\n",
    "        rw_assns = new_rw_assns\n",
    "    return jump_freqs\n",
    "\n",
    "jump_freqs = random_walks(transition_matrix, assns)"
   ]
  },
  {
   "cell_type": "code",
   "execution_count": 42,
   "metadata": {},
   "outputs": [
    {
     "data": {
      "image/png": "[encoded data removed]",
      "text/plain": [
       "<Figure size 432x288 with 2 Axes>"
      ]
     },
     "metadata": {
      "needs_background": "light"
     },
     "output_type": "display_data"
    }
   ],
   "source": [
    "from matplotlib.ticker import MaxNLocator\n",
    "\n",
    "plt.subplot(1, 2, 1)\n",
    "plt.imshow(jump_freqs)\n",
    "plt.gca().yaxis.set_major_locator(MaxNLocator(integer=True))\n",
    "plt.title(\"Linear Scale\")\n",
    "\n",
    "plt.subplot(1, 2, 2)\n",
    "plt.imshow(np.log(jump_freqs + 10e-6))\n",
    "plt.gca().yaxis.set_major_locator(MaxNLocator(integer=True))\n",
    "plt.title(\"Log Scale\")\n",
    "\n",
    "plt.suptitle(\"Transitions Between Clusters\")\n",
    "plt.show()\n"
   ]
  }
 ],
 "metadata": {
  "kernelspec": {
   "display_name": "Python 3",
   "language": "python",
   "name": "python3"
  },
  "language_info": {
   "codemirror_mode": {
    "name": "ipython",
    "version": 3
   },
   "file_extension": ".py",
   "mimetype": "text/x-python",
   "name": "python",
   "nbconvert_exporter": "python",
   "pygments_lexer": "ipython3",
   "version": "3.7.4"
  }
 },
 "nbformat": 4,
 "nbformat_minor": 4
}
