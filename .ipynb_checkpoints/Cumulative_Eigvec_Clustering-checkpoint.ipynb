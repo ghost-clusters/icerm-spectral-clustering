{
 "cells": [
  {
   "cell_type": "markdown",
   "metadata": {},
   "source": [
    "# Cumulative Eigenvector Clustering"
   ]
  },
  {
   "cell_type": "markdown",
   "metadata": {},
   "source": [
    "What is the impact of each eigenvector to the normalized spectral clustering algorithm? While incrementing $k$, the number of clusters, how do the clusterings change?"
   ]
  },
  {
   "cell_type": "code",
   "execution_count": 1,
   "metadata": {},
   "outputs": [],
   "source": [
    "import matplotlib.pyplot as plt\n",
    "import numpy as np\n",
    "import scipy as sp\n",
    "from normalized_spectral_clustering_shi import laplacian_matrix, similarity_matrix\n",
    "from Kmeans import kmeans\n",
    "from matplotlib import cm\n",
    "from tqdm import tqdm"
   ]
  },
  {
   "cell_type": "markdown",
   "metadata": {},
   "source": [
    "## Data generation"
   ]
  },
  {
   "cell_type": "code",
   "execution_count": 2,
   "metadata": {},
   "outputs": [
    {
     "data": {
      "image/png": "[encoded data removed]",
      "text/plain": [
       "<Figure size 432x288 with 1 Axes>"
      ]
     },
     "metadata": {
      "needs_background": "light"
     },
     "output_type": "display_data"
    }
   ],
   "source": [
    "from datasets import gaussian_mixture\n",
    "\n",
    "n_gaussians = 5\n",
    "n_pts = 4\n",
    "n = n_pts * n_gaussians\n",
    "d = 2\n",
    "\n",
    "data = gaussian_mixture(n_gaussians, n_pts, d, centroid_var=10)\n",
    "\n",
    "data = data.T\n",
    "\n",
    "plt.scatter(*data.T)\n",
    "plt.xlabel(\"$x_1$\")\n",
    "plt.ylabel(\"$x_2$\")\n",
    "plt.title(\"Sample of Gaussian Mixture\")\n",
    "plt.show()"
   ]
  },
  {
   "cell_type": "markdown",
   "metadata": {},
   "source": [
    "## Extract and Visualize Eigenvectors"
   ]
  },
  {
   "cell_type": "code",
   "execution_count": 3,
   "metadata": {},
   "outputs": [],
   "source": [
    "laplacian, degreeinv = laplacian_matrix(data)\n",
    "dinvl = degreeinv @ laplacian\n",
    "evals, evecs = u_first_k_evectors = sp.linalg.eigh(dinvl)"
   ]
  },
  {
   "cell_type": "code",
   "execution_count": 4,
   "metadata": {},
   "outputs": [],
   "source": [
    "cmap = cm.get_cmap(\"tab20\")\n",
    "unif_colors = [cmap(intensity) for intensity in np.linspace(0, 1, n)]"
   ]
  },
  {
   "cell_type": "markdown",
   "metadata": {},
   "source": [
    "The following plot shows eigenvalue growth rate.\n",
    "1. If there are $n_{\\text{gaussian}}$ clusters, are the first $n_{\\text{gaussian}}$-many eigenvalues nearly zero?"
   ]
  },
  {
   "cell_type": "code",
   "execution_count": 5,
   "metadata": {},
   "outputs": [
    {
     "data": {
      "image/png": "[encoded data removed]",
      "text/plain": [
       "<Figure size 432x288 with 1 Axes>"
      ]
     },
     "metadata": {
      "needs_background": "light"
     },
     "output_type": "display_data"
    }
   ],
   "source": [
    "plt.plot(evals, \"bo-\")\n",
    "plt.xlabel(\"Index\")\n",
    "plt.ylabel(\"$\\lambda_i$\")\n",
    "plt.xticks(range(n))\n",
    "plt.title(\"Eigenvalues of Similarity Graph Laplacian\")\n",
    "plt.show()"
   ]
  },
  {
   "cell_type": "markdown",
   "metadata": {},
   "source": [
    "### Cumulative Clusters\n",
    "\n",
    "Each subplot shows classification decisions using a certain number of eigenvectors of the normalized graph Laplacian. They are cumulative in the sense that plot $(i+1)$ includes all vectors used to cluster plot $(i)$, with an extra one."
   ]
  },
  {
   "cell_type": "code",
   "execution_count": null,
   "metadata": {},
   "outputs": [
    {
     "name": "stderr",
     "output_type": "stream",
     "text": [
      " 70%|████████████████████████████████████████████████████████████████████████████████████████▉                                      | 14/20 [00:46<00:30,  5.07s/it]"
     ]
    }
   ],
   "source": [
    "r = n_pts\n",
    "c = n_gaussians\n",
    "# r * c = N\n",
    "for i in tqdm(range(1,n+1)):\n",
    "    _, assns = kmeans(evecs[:, :i].T, i, iters=10000)\n",
    "    data_clusters = [ data[assns == clss, :].T for clss in range(i) ]\n",
    "    plt.subplot(r, c, i)\n",
    "    plt.title(f\"{i} evecs\")\n",
    "    plt.gca().set_xticks([], [])\n",
    "    plt.gca().set_yticks([], [])\n",
    "    \n",
    "    for j, data_cluster in enumerate(data_clusters):\n",
    "        plt.scatter(*data_cluster, color=unif_colors[j])\n",
    "plt.gcf().set_size_inches(10, 10)\n",
    "plt.tight_layout()\n",
    "plt.savefig(\"Cumulative_Eigenvectors.png\")\n",
    "plt.show()"
   ]
  },
  {
   "cell_type": "markdown",
   "metadata": {},
   "source": [
    "### Individual Eigenvectors\n",
    "\n",
    "Each subplot shows the classification of points using only the *sign of the components of a partiular eigenvector*. \n",
    "\n",
    "Hypothesis: the $n$-th eigenvector is an approximate indicator of the $n$-th most refined cluster."
   ]
  },
  {
   "cell_type": "code",
   "execution_count": null,
   "metadata": {},
   "outputs": [],
   "source": [
    "r = n_pts\n",
    "c = n_gaussians\n",
    "# r * c = N\n",
    "for i in tqdm(range(0, n)):\n",
    "    assns = (evecs[:, i] > 0)\n",
    "    data_clusters = [ data[assns == clss, :].T for clss in [0, 1] ] # two class case\n",
    "    \n",
    "    plt.subplot(r, c, i+1)\n",
    "    plt.title(f\"{i+1} evecs\")\n",
    "    plt.gca().set_xticks([], [])\n",
    "    plt.gca().set_yticks([], [])\n",
    "    \n",
    "    for j, data_cluster in enumerate(data_clusters):\n",
    "        plt.scatter(*data_cluster)\n",
    "plt.gcf().set_size_inches(10, 10)\n",
    "plt.tight_layout()\n",
    "plt.savefig(\"Individual_Eigenvectors.png\")\n",
    "plt.show()"
   ]
  }
 ],
 "metadata": {
  "kernelspec": {
   "display_name": "Python 3",
   "language": "python",
   "name": "python3"
  },
  "language_info": {
   "codemirror_mode": {
    "name": "ipython",
    "version": 3
   },
   "file_extension": ".py",
   "mimetype": "text/x-python",
   "name": "python",
   "nbconvert_exporter": "python",
   "pygments_lexer": "ipython3",
   "version": "3.8.3"
  }
 },
 "nbformat": 4,
 "nbformat_minor": 4
}
