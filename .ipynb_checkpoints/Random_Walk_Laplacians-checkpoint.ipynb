{
 "cells": [
  {
   "cell_type": "code",
   "execution_count": 6,
   "metadata": {},
   "outputs": [],
   "source": [
    "import numpy as np\n",
    "import scipy as sp\n",
    "import networkx as nx\n",
    "from Kmeans import kmeans\n",
    "from normalized_spectral_clustering_shi import laplacian_matrix, similarity_matrix\n",
    "from datasets import gaussian_mixture\n",
    "from scipy import linalg\n",
    "import matplotlib.pyplot as plt\n",
    "from mpl_toolkits.mplot3d import Axes3D\n",
    "from spectral_clustering import spectral_clustering\n",
    "from tqdm import tqdm"
   ]
  },
  {
   "cell_type": "markdown",
   "metadata": {},
   "source": [
    "## Data Generation"
   ]
  },
  {
   "cell_type": "code",
   "execution_count": 33,
   "metadata": {},
   "outputs": [
    {
     "name": "stdout",
     "output_type": "stream",
     "text": [
      "[-4.99796998 -1.54196975]\n"
     ]
    },
    {
     "data": {
      "image/png": "[encoded data removed]",
      "text/plain": [
       "<Figure size 432x288 with 1 Axes>"
      ]
     },
     "metadata": {
      "needs_background": "light"
     },
     "output_type": "display_data"
    }
   ],
   "source": [
    "from datasets import gaussian_mixture\n",
    "\n",
    "n_gaussians = 5\n",
    "n_pts = 4\n",
    "n = n_pts * n_gaussians\n",
    "d = 2\n",
    "\n",
    "data = gaussian_mixture(n_gaussians, n_pts, d, centroid_var=5)\n",
    "\n",
    "data = data.T\n",
    "print(data[0])\n",
    "\n",
    "plt.scatter(*data.T)\n",
    "plt.xlabel(\"$x_1$\")\n",
    "plt.ylabel(\"$x_2$\")\n",
    "plt.title(\"Sample of Gaussian Mixture\")\n",
    "plt.show()"
   ]
  },
  {
   "cell_type": "markdown",
   "metadata": {},
   "source": [
    "## Construct Transition Matrix\n"
   ]
  },
  {
   "cell_type": "code",
   "execution_count": 34,
   "metadata": {},
   "outputs": [
    {
     "name": "stdout",
     "output_type": "stream",
     "text": [
      "(20, 20)\n"
     ]
    }
   ],
   "source": [
    "weights = similarity_matrix(data)\n",
    "laplacian, degreeinv = laplacian_matrix(data)\n",
    "\n",
    "p = degreeinv @ weights\n",
    "print(p.shape)"
   ]
  },
  {
   "cell_type": "markdown",
   "metadata": {},
   "source": [
    "## Distribution of the First Step\n",
    "For a fixed point, in this case the first data point (2 dimensional), we can look at the first row of p as a finite distribution, and we can extrapolate which vertices the first data point may respond to.\n",
    "\n",
    "However I don't know how to do that, so in a novel application of Central Limit Theorem, I will just multiply the first row by a large number and see what happens"
   ]
  },
  {
   "cell_type": "code",
   "execution_count": 35,
   "metadata": {},
   "outputs": [
    {
     "name": "stdout",
     "output_type": "stream",
     "text": [
      "95.41163422540137\n",
      "1.2760467098621968\n",
      "41.98797493734964\n",
      "16.33809542181969\n",
      "419.4484767029264\n",
      "660.9972272169294\n",
      "613.8981893345447\n",
      "7876.785531596037\n",
      "156.83961128255734\n",
      "65.60780965741337\n",
      "39.63459834655543\n",
      "11.201302821187374\n",
      "0.4591555278987337\n",
      "0.00423467574678453\n",
      "0.09895916822110429\n",
      "0.006923449758405354\n",
      "0.0016418922274798933\n",
      "0.0003467345332008129\n",
      "0.0019626143157253735\n",
      "0.0002776847164570404\n"
     ]
    }
   ],
   "source": [
    "j = 7 #number from 0 to n-1\n",
    "x = p[j]*10000\n",
    "for i in range(n):\n",
    "    print(x[i])"
   ]
  },
  {
   "cell_type": "markdown",
   "metadata": {},
   "source": [
    "Here, we see that vertices exhibit a clear preference to certain other vertices. Let's collect a set of vertices for each vertex, where we store vertices that are oft visited by the vertex indexing this set. We can interpret the scalar of 10000 to be 10000 \"first steps.\" Let's first include vertices that were visited at least once, and see how the vertices organize themselves."
   ]
  },
  {
   "cell_type": "code",
   "execution_count": 37,
   "metadata": {},
   "outputs": [
    {
     "ename": "AttributeError",
     "evalue": "'list' object has no attribute 'size'",
     "output_type": "error",
     "traceback": [
      "\u001b[1;31m---------------------------------------------------------------------------\u001b[0m",
      "\u001b[1;31mAttributeError\u001b[0m                            Traceback (most recent call last)",
      "\u001b[1;32m<ipython-input-37-b500ab437bde>\u001b[0m in \u001b[0;36m<module>\u001b[1;34m\u001b[0m\n\u001b[0;32m      8\u001b[0m             \u001b[0mA_i\u001b[0m\u001b[1;33m.\u001b[0m\u001b[0mappend\u001b[0m\u001b[1;33m(\u001b[0m\u001b[0mj\u001b[0m\u001b[1;33m)\u001b[0m\u001b[1;33m\u001b[0m\u001b[1;33m\u001b[0m\u001b[0m\n\u001b[0;32m      9\u001b[0m     \u001b[0mA\u001b[0m\u001b[1;33m.\u001b[0m\u001b[0mappend\u001b[0m\u001b[1;33m(\u001b[0m\u001b[0mA_i\u001b[0m\u001b[1;33m)\u001b[0m\u001b[1;33m\u001b[0m\u001b[1;33m\u001b[0m\u001b[0m\n\u001b[1;32m---> 10\u001b[1;33m     \u001b[0mprint\u001b[0m\u001b[1;33m(\u001b[0m\u001b[0mA_i\u001b[0m\u001b[1;33m.\u001b[0m\u001b[0msize\u001b[0m\u001b[1;33m)\u001b[0m\u001b[1;33m\u001b[0m\u001b[1;33m\u001b[0m\u001b[0m\n\u001b[0m",
      "\u001b[1;31mAttributeError\u001b[0m: 'list' object has no attribute 'size'"
     ]
    }
   ],
   "source": [
    "# Let A be a set of sets such that A[i] consists of the vertices that i visited at least once in 10000 first steps.\n",
    "A=[]\n",
    "for i in range(n):\n",
    "    x= p[i]*10000\n",
    "    A_i = []\n",
    "    for j in range(n):\n",
    "        if x[j] >= 1:\n",
    "            A_i.append(j)\n",
    "    A.append(A_i)\n",
    "    print(len(A_i))"
   ]
  },
  {
   "cell_type": "code",
   "execution_count": null,
   "metadata": {},
   "outputs": [],
   "source": []
  }
 ],
 "metadata": {
  "kernelspec": {
   "display_name": "Python 3",
   "language": "python",
   "name": "python3"
  },
  "language_info": {
   "codemirror_mode": {
    "name": "ipython",
    "version": 3
   },
   "file_extension": ".py",
   "mimetype": "text/x-python",
   "name": "python",
   "nbconvert_exporter": "python",
   "pygments_lexer": "ipython3",
   "version": "3.8.3"
  }
 },
 "nbformat": 4,
 "nbformat_minor": 4
}
