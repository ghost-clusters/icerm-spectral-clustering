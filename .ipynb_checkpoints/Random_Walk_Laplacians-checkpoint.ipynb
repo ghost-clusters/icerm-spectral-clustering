{
 "cells": [
  {
   "cell_type": "code",
   "execution_count": 1,
   "metadata": {},
   "outputs": [],
   "source": [
    "import numpy as np\n",
    "import scipy as sp\n",
    "import networkx as nx\n",
    "from Kmeans import kmeans\n",
    "from normalized_spectral_clustering_shi import laplacian_matrix, similarity_matrix\n",
    "from datasets import gaussian_mixture\n",
    "from scipy import linalg\n",
    "import matplotlib.pyplot as plt\n",
    "from mpl_toolkits.mplot3d import Axes3D\n",
    "from spectral_clustering import spectral_clustering\n",
    "from tqdm import tqdm"
   ]
  },
  {
   "cell_type": "markdown",
   "metadata": {},
   "source": [
    "## Data Generation"
   ]
  },
  {
   "cell_type": "code",
   "execution_count": 62,
   "metadata": {},
   "outputs": [
    {
     "name": "stdout",
     "output_type": "stream",
     "text": [
      "[-34.80593842  -3.08806476]\n"
     ]
    },
    {
     "data": {
      "image/png": "[encoded data removed]",
      "text/plain": [
       "<Figure size 432x288 with 1 Axes>"
      ]
     },
     "metadata": {
      "needs_background": "light"
     },
     "output_type": "display_data"
    }
   ],
   "source": [
    "from datasets import gaussian_mixture\n",
    "\n",
    "n_gaussians = 4\n",
    "n_pts = 5\n",
    "n = n_pts * n_gaussians\n",
    "d = 2\n",
    "\n",
    "data = gaussian_mixture(n_gaussians, n_pts, d, centroid_var=15)\n",
    "\n",
    "data = data.T\n",
    "print(data[0])\n",
    "\n",
    "plt.scatter(*data.T)\n",
    "plt.xlabel(\"$x_1$\")\n",
    "plt.ylabel(\"$x_2$\")\n",
    "plt.title(\"Sample of Gaussian Mixture\")\n",
    "plt.show()"
   ]
  },
  {
   "cell_type": "markdown",
   "metadata": {},
   "source": [
    "## Construct Transition Matrix\n"
   ]
  },
  {
   "cell_type": "code",
   "execution_count": 63,
   "metadata": {},
   "outputs": [],
   "source": [
    "weights = similarity_matrix(data)\n",
    "laplacian, degreeinv = laplacian_matrix(data)\n",
    "\n",
    "p = degreeinv @ weights"
   ]
  },
  {
   "cell_type": "markdown",
   "metadata": {},
   "source": [
    "## Distribution of the First Step\n",
    "For a fixed point, in this case the first data point (2 dimensional), we can look at the first row of p as a finite distribution, and we can extrapolate which vertices the first data point may respond to.\n",
    "\n",
    "However I don't know how to do that, so in a novel application of Central Limit Theorem, I will just multiply the first row by a large number and see what happens"
   ]
  },
  {
   "cell_type": "code",
   "execution_count": 64,
   "metadata": {},
   "outputs": [
    {
     "name": "stdout",
     "output_type": "stream",
     "text": [
      "3.4864209240092016e-245\n",
      "5.456197117206536e-258\n",
      "3.1285631812397855e-271\n",
      "7.361888442420466e-265\n",
      "6.0696185774086874e-254\n",
      "9.951265306261636e-49\n",
      "1.995895881509503e-46\n",
      "8.035826921519401e-64\n",
      "4.636486160024905e-53\n",
      "4.993145941418856e-60\n",
      "2006.1989336690208\n",
      "13.026645911311286\n",
      "0.007444730570724253\n",
      "7972.642945479205\n",
      "8.12403020989299\n",
      "2.099902613789756e-28\n",
      "6.3389119674568356e-37\n",
      "1.3235267500183612e-39\n",
      "1.713843611686057e-32\n",
      "4.936526861203065e-40\n"
     ]
    }
   ],
   "source": [
    "j = 5 #number from 0 to n-1\n",
    "x = p[j]*10000\n",
    "for i in range(n):\n",
    "    print(x[i])"
   ]
  },
  {
   "cell_type": "markdown",
   "metadata": {},
   "source": [
    "Here, we see that vertices exhibit a clear preference to certain other vertices. Let's collect a set of vertices for each vertex, where we store vertices that are oft visited by the vertex indexing this set. We can interpret the scalar of 10000 to be 10000 \"first steps.\" Let's first include vertices that were visited at least once, and see how the vertices organize themselves."
   ]
  },
  {
   "cell_type": "code",
   "execution_count": 65,
   "metadata": {},
   "outputs": [
    {
     "name": "stdout",
     "output_type": "stream",
     "text": [
      "[10, 11, 13, 14]\n",
      "[10, 11, 13, 14]\n",
      "[10, 11, 13, 14]\n",
      "[10, 11, 13, 14]\n",
      "[10, 11, 13, 14]\n",
      "[10, 11, 13, 14]\n",
      "[10, 11, 13, 14]\n",
      "[10, 11, 13, 14]\n",
      "[10, 11, 13, 14]\n",
      "[10, 11, 13, 14]\n",
      "[10, 11, 13, 14]\n",
      "[10, 11, 13, 14]\n",
      "[10, 11, 13, 14]\n",
      "[10, 11, 13, 14]\n",
      "[10, 11, 13, 14]\n",
      "[10, 11, 13, 14]\n",
      "[10, 11, 13, 14]\n",
      "[10, 11, 13, 14]\n",
      "[10, 11, 13, 14]\n",
      "[10, 11, 13, 14]\n"
     ]
    },
    {
     "data": {
      "image/png": "[encoded data removed]",
      "text/plain": [
       "<Figure size 432x288 with 1 Axes>"
      ]
     },
     "metadata": {
      "needs_background": "light"
     },
     "output_type": "display_data"
    }
   ],
   "source": [
    "# Let A be a set of sets such that A[i] consists of the vertices that i visited at least once in 10000 first steps.\n",
    "A=[]\n",
    "for i in range(n):\n",
    "    x= p[i]*10000\n",
    "    A_i = []\n",
    "    for j in range(n):\n",
    "        if x[j] >= 1:\n",
    "            A_i.append(j)\n",
    "            plt.scatter(i,j)\n",
    "    A.append(A_i)\n",
    "    \n",
    "print(A_i)    \n",
    "plt.xlabel(\"i\")\n",
    "plt.ylabel(\"j\")\n",
    "plt.title(\"points j regularly in one step of i\")\n",
    "plt.show()"
   ]
  },
  {
   "cell_type": "markdown",
   "metadata": {},
   "source": [
    "## Observations\n",
    "vertex i appears in A[i] for all i\n",
    "\n",
    "if vertex j appears in A[i], vertex i appears in A[j]\n",
    "This is expected behavior, as the graph is undirected\n",
    "\n",
    "\n",
    "there appear to be broader trends, how can we substantiate them precisely?\n",
    "Questions:\n",
    "\n",
    "If vertices x,y appear in set z, how likely is it that that (WLOG) vertices y, z appear in set x? Is there a lower bound on inclusion in set i that guarantees this for any given distribution?\n",
    "\n"
   ]
  }
 ],
 "metadata": {
  "kernelspec": {
   "display_name": "Python 3",
   "language": "python",
   "name": "python3"
  },
  "language_info": {
   "codemirror_mode": {
    "name": "ipython",
    "version": 3
   },
   "file_extension": ".py",
   "mimetype": "text/x-python",
   "name": "python",
   "nbconvert_exporter": "python",
   "pygments_lexer": "ipython3",
   "version": "3.8.3"
  }
 },
 "nbformat": 4,
 "nbformat_minor": 4
}
