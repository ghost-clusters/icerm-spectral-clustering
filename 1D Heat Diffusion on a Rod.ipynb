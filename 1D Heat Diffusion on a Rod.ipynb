{
 "cells": [
  {
   "cell_type": "markdown",
   "metadata": {},
   "source": [
    "# 1D Heat Diffusion on a Rod\n",
    "\n",
    "This notebook simulates heat diffusion in 1 dimension on a discrete domain with Dirichlet boundary conditions. This has a physical interpretation as a rod whose ends are soaked in cold water."
   ]
  },
  {
   "cell_type": "code",
   "execution_count": 1,
   "metadata": {},
   "outputs": [],
   "source": [
    "import numpy as np\n",
    "import matplotlib.pyplot as plt\n",
    "import matplotlib.cm as cm\n",
    "from lib.datasets import gaussian_mixture"
   ]
  },
  {
   "cell_type": "code",
   "execution_count": 2,
   "metadata": {},
   "outputs": [],
   "source": [
    "def square_wave(u, nx):\n",
    "    for i in range(1,nx-1):\n",
    "        if(i>(nx-1)/4 and i< (nx-1)/2):\n",
    "            u[i,0] = 2\n",
    "        else:\n",
    "            u[i,0] = 0\n",
    "    \n",
    "    #bdry\n",
    "    u[0,:] = 0\n",
    "    u[nx-1,:] = 0\n",
    "    \n",
    "    return u\n",
    "\n",
    "def line(u, dx, m, b, N):\n",
    "    nx = np.int(N/dx + 1)\n",
    "    for i in range(1,nx-1):\n",
    "        u[i,0] = m*i*dx + b\n",
    "    u[0,:] = u[1,0]\n",
    "    u[nx-1,:] = u[nx-2,0]\n",
    "    return u"
   ]
  },
  {
   "cell_type": "code",
   "execution_count": 3,
   "metadata": {},
   "outputs": [],
   "source": [
    "def onediffusion(nt, nx, T, N, k): #nt,nx are number of intervals, T is max time, N is max position, k is diffusivity\n",
    "    #dt dx\n",
    "    dt = T/(nt-1)\n",
    "    dx = N/(nx-1)\n",
    "    \n",
    "    #init u, x\n",
    "    u = np.zeros((nx,nt))\n",
    "    x = np.zeros(nx)\n",
    "    \n",
    "    # bdry\n",
    "    \n",
    "    \n",
    "    # initial conditions \n",
    "    #(square wave)\n",
    "    square_wave(u,nx)\n",
    "    \n",
    "    #(mx+b)\n",
    "    #line(u,dx,1,.1, N)\n",
    "    \n",
    "    \n",
    "            \n",
    "\n",
    "    # iterating over time and position\n",
    "    for i in range(0, nt-1):\n",
    "        for j in range(0,nx-1):\n",
    "            u[j,i+1] = u[j,i] + k*(dt/(dx**2))*(u[j+1,i] - 2*u[j,i] + u[j-1,i])\n",
    "            \n",
    "    #also x\n",
    "    for i in range(0,nx):\n",
    "        x[i] = i*dx\n",
    "    \n",
    "    return u,x"
   ]
  },
  {
   "cell_type": "code",
   "execution_count": 4,
   "metadata": {},
   "outputs": [],
   "source": [
    "def plot_diff(u,x, nt):\n",
    "    plt.figure()\n",
    "    color = iter(cm.rainbow(np.linspace(0,10,nt)))\n",
    "    for i in range(0,nt,10):\n",
    "        c= next(color)\n",
    "        plt.plot(x,u[:,i], c=c)\n",
    "    plt.xlabel('x')\n",
    "    plt.ylabel('u')\n",
    "    plt.ylim([-1.0,3.0])\n",
    "    plt.show()"
   ]
  },
  {
   "cell_type": "code",
   "execution_count": 29,
   "metadata": {},
   "outputs": [
    {
     "data": {
      "image/png": "[encoded data removed]",
      "text/plain": [
       "<Figure size 432x288 with 1 Axes>"
      ]
     },
     "metadata": {
      "needs_background": "light"
     },
     "output_type": "display_data"
    }
   ],
   "source": [
    "u, x = onediffusion(201,21,.5,2.0,.1)\n",
    "plot_diff(u,x,201)"
   ]
  },
  {
   "cell_type": "code",
   "execution_count": 17,
   "metadata": {},
   "outputs": [
    {
     "name": "stdout",
     "output_type": "stream",
     "text": [
      "(25, 2)\n"
     ]
    }
   ],
   "source": [
    "ngau = 5\n",
    "npt = 5\n",
    "n = ngau * npt\n",
    "data = gaussian_mixture(ngau, npt, 2)\n",
    "print(data.shape)"
   ]
  },
  {
   "cell_type": "code",
   "execution_count": 20,
   "metadata": {},
   "outputs": [],
   "source": [
    "#grid\n",
    "w,h = 10, 10\n",
    "#stepsize\n",
    "dx,dy = 0.1, 0.1\n",
    "#second stepsize\n",
    "dx2, dy2 = dx**2, dy**2\n",
    "#steps\n",
    "nx, ny = int(w/dx),int(h/dy)\n",
    "#constant of diffusivity\n",
    "D = 2\n",
    "#timestep wrt stability bound\n",
    "dt = (dx*dy/(2*D*(dx2 + dy2)))\n",
    "\n",
    "#so we're gonna diffuse a donut with a hot interior\n",
    "\n",
    "#temp on the bdry, (mini will be outer, maxi will be interior)\n",
    "tmin , tmax = 200, 800\n",
    "\n",
    "\n",
    "#construct donut\n",
    "v0 = tmin * np.ones((nx,ny))\n",
    "#copy to diffuse on\n",
    "u = v0.copy()\n",
    "\n",
    "#initialize donut (interior is circle of radius r centered at xc yc)\n",
    "r, xc, yc = 2, 5, 5\n",
    "for i in range(nx):\n",
    "    for j in range (ny):\n",
    "        dc = (i*dx - xc)**2 + (j*dy - yc)**2\n",
    "        if dc< r**2:\n",
    "            v0[i][j] = tmax    "
   ]
  }
 ],
 "metadata": {
  "kernelspec": {
   "display_name": "Python 3",
   "language": "python",
   "name": "python3"
  },
  "language_info": {
   "codemirror_mode": {
    "name": "ipython",
    "version": 3
   },
   "file_extension": ".py",
   "mimetype": "text/x-python",
   "name": "python",
   "nbconvert_exporter": "python",
   "pygments_lexer": "ipython3",
   "version": "3.7.4"
  }
 },
 "nbformat": 4,
 "nbformat_minor": 4
}
