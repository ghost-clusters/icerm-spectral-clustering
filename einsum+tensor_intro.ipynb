{
 "cells": [
  {
   "cell_type": "code",
   "execution_count": 1,
   "metadata": {},
   "outputs": [],
   "source": [
    "import numpy as np "
   ]
  },
  {
   "cell_type": "markdown",
   "metadata": {},
   "source": [
    "## Einstein Summations and Tensors\n",
    "Higher dimensional data can be interpreted in many different ways if we approach them from the framework provided by tensors. Tensors are objects that can be constructed from finite dimensional vector spaces. Neat features include generalizing linear maps to multilinear maps, which allows for a concrete formulation of various matrix operations, like the inner product, elementwise multiplication, and the outer product.\n",
    "\n",
    "An (informal) abstract motivation for defining tensors is that the tensor product vector space (of V and W) is the most general way to relate vector spaces V and W. That is to say other binary relations, like the direct sum VxW, can be represented as an element of the tensor product of V and W."
   ]
  },
  {
   "cell_type": "markdown",
   "metadata": {},
   "source": [
    "## Definitions\n",
    "\n",
    "multilinear map\n",
    "\n",
    "examples: inner product, cross product, multilinear subspace learning\n"
   ]
  }
 ],
 "metadata": {
  "kernelspec": {
   "display_name": "Python 3",
   "language": "python",
   "name": "python3"
  },
  "language_info": {
   "codemirror_mode": {
    "name": "ipython",
    "version": 3
   },
   "file_extension": ".py",
   "mimetype": "text/x-python",
   "name": "python",
   "nbconvert_exporter": "python",
   "pygments_lexer": "ipython3",
   "version": "3.7.4"
  }
 },
 "nbformat": 4,
 "nbformat_minor": 4
}
