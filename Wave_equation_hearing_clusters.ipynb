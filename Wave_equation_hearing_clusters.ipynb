{
 "cells": [
  {
   "cell_type": "markdown",
   "metadata": {},
   "source": [
    "$\\mathbf{Fast \\ Fourier \\ Transform}$ \n",
    "\n",
    "FFT transforms a signal from its time representation into the frequency domain by sampling data at fixed intervals and decomposing it into different frequencies. "
   ]
  },
  {
   "cell_type": "markdown",
   "metadata": {},
   "source": [
    "This algorithm recovers clusters by propagating waves through a graph. How does it use FFT on the local components. How does this work as a distributed system?\n"
   ]
  },
  {
   "cell_type": "code",
   "execution_count": 5,
   "metadata": {},
   "outputs": [],
   "source": [
    "import numpy as np\n",
    "from lib.spectral_clustering import similarity_matrix, laplacian_matrix"
   ]
  },
  {
   "cell_type": "code",
   "execution_count": 18,
   "metadata": {},
   "outputs": [],
   "source": [
    "def array_to_binary(row):\n",
    "    '''\n",
    "    This function takes a row of 0's and 1's and turns it into binary, \n",
    "    backwards, so [0, 0, 1] becomes 4 \n",
    "    '''\n",
    "    binary_to_decimal = 0\n",
    "    for i in range(len(row)):\n",
    "        binary_to_decimal += row[i] * 2 ** i\n",
    "    return binary_to_decimal\n",
    "\n",
    "def cluster_wave_eq(k, T_max, num_nodes, c, normalized_laplacian):\n",
    "    '''\n",
    "    k = number of eigenvectors used, maybe??? < 2**k clusters\n",
    "    T_max = number of iterations in time\n",
    "    num_nodes = number of nodes in our graph\n",
    "    c = constant in the wave equation. 0 < c < sqrt(2) for stability\n",
    "    normalized_laplacian = D**{-1}L\n",
    "    '''\n",
    "    # initialize heat matrix: each row corresponds to a node, column corresponds to a step in time\n",
    "    heat = np.zeros(shape = (num_nodes, T_max + 1)) #offset index by 1 because we need index -1, evolves with time\n",
    "    heat[:, 0] = np.random.uniform(size = num_nodes)\n",
    "    heat[:, 1] = heat[:, 0] \n",
    "    # populate the heat matrix\n",
    "    for i in range(2, T_max + 1): \n",
    "        heat[:, i] = 2 * heat[:, i-1] - heat[:, i-2] - c ** 2 * normalized_laplacian @ heat[:, i-1]\n",
    "    # calculate FFT for each node, the nth entry corresponds to e^(2pi ni/N) and encodes amplitude and phase shift\n",
    "    heat_fft = np.fft.fft(heat, axis=1)\n",
    "    # Finds the index of the k largest power over each row\n",
    "    indices = np.argsort(-np.abs(heat_fft), axis = 1)[:k]\n",
    "    eigenvector = np.zeros(shape = (num_nodes, k))\n",
    "    binary = np.zeros(shape = (num_nodes, k))\n",
    "    for i in range(num_nodes): # for each row, ie each node\n",
    "        for j in range(k): # find the jth largest frequency\n",
    "            eigenvector[i][j] = np.real(heat_fft[i][j])\n",
    "            if eigenvector[i][j] > 0:\n",
    "                binary[i][j] = 1\n",
    "            else:\n",
    "                binary[i][j] = 0\n",
    "    cluster_num = [array_to_binary(num_nodes[i]) for i in range(num_nodes)]\n",
    "    print(cluster_num)\n"
   ]
  },
  {
   "cell_type": "code",
   "execution_count": null,
   "metadata": {},
   "outputs": [],
   "source": []
  }
 ],
 "metadata": {
  "kernelspec": {
   "display_name": "Python 3",
   "language": "python",
   "name": "python3"
  },
  "language_info": {
   "codemirror_mode": {
    "name": "ipython",
    "version": 3
   },
   "file_extension": ".py",
   "mimetype": "text/x-python",
   "name": "python",
   "nbconvert_exporter": "python",
   "pygments_lexer": "ipython3",
   "version": "3.6.2"
  }
 },
 "nbformat": 4,
 "nbformat_minor": 4
}
