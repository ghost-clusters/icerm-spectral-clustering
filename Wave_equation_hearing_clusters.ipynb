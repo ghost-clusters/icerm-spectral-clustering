{
 "cells": [
  {
   "cell_type": "markdown",
   "metadata": {},
   "source": [
    "$\\mathbf{Fast \\ Fourier \\ Transform}$ \n",
    "\n",
    "FFT transforms a signal from its time representation into the frequency domain by sampling data at fixed intervals and decomposing it into different frequencies. "
   ]
  },
  {
   "cell_type": "markdown",
   "metadata": {},
   "source": [
    "This algorithm recovers clusters by propagating waves through a graph. How does it use FFT on the local components. How does this work as a distributed system?\n"
   ]
  },
  {
   "cell_type": "code",
   "execution_count": 19,
   "metadata": {},
   "outputs": [],
   "source": [
    "import numpy as np\n",
    "from lib.spectral_clustering import similarity_matrix, laplacian_matrix, spectral_clustering\n",
    "from lib.datasets import gaussian_mixture as gm\n",
    "from lib.kmeans import kmeans\n",
    "import matplotlib.pyplot as plt\n",
    "import numpy as np\n",
    "import scipy as sp\n",
    "from matplotlib import cm\n",
    "import scipy.fftpack\n",
    "import scipy.signal"
   ]
  },
  {
   "cell_type": "markdown",
   "metadata": {},
   "source": [
    "# Building Our Functions to Cluster with the Wave Equation"
   ]
  },
  {
   "cell_type": "code",
   "execution_count": 26,
   "metadata": {},
   "outputs": [],
   "source": [
    "def array_to_binary(row):\n",
    "    '''\n",
    "    This function takes a row of 0's and 1's and turns it into binary, \n",
    "    backwards, so [0, 0, 1] becomes 4 \n",
    "    '''\n",
    "    binary_to_decimal = 0\n",
    "    for i in range(len(row)):\n",
    "        binary_to_decimal += row[i] * 2 ** i\n",
    "    return binary_to_decimal\n",
    "\n",
    "def cluster_wave_eq(k, T_max, num_nodes, c, normalized_laplacian):\n",
    "    '''\n",
    "    k = number of eigenvectors used, maybe??? < 2**k clusters\n",
    "    T_max = number of iterations in time\n",
    "    num_nodes = number of nodes in our graph\n",
    "    c = constant in the wave equation. 0 < c < sqrt(2) for stability\n",
    "    normalized_laplacian = D**{-1}L\n",
    "    '''\n",
    "    # initialize heat matrix: each row corresponds to a node, column corresponds to a step in time\n",
    "    heat = np.zeros(shape = (num_nodes, T_max + 1)) #offset index by 1 because we need index -1, evolves with time\n",
    "    #print(heat.shape)\n",
    "    heat[:, 0] = np.random.uniform(size = num_nodes)\n",
    "    heat[:, 1] = heat[:, 0] \n",
    "    #print(heat[:, 1].shape)\n",
    "    # populate the heat matrix\n",
    "    for i in range(2, T_max + 1): \n",
    "        heat[:, i] = 2 * heat[:, i-1] - heat[:, i-2] - (c ** 2) * (normalized_laplacian @ heat[:, i-1])\n",
    "    # calculate FFT for each node, the nth entry corresponds to e^(2pi ni/N) and encodes amplitude and phase shift\n",
    "    heat_fft = np.fft.fft(heat, axis=1)\n",
    "    # Finds the index of the k largest power over each row\n",
    "    indices = [sp.signal.find_peaks(heat_fft[j, :])[:k] for j in range(len(heat_fft))]\n",
    "    eigenvector = np.zeros(shape = (num_nodes, k))\n",
    "    binary = np.zeros(shape = (num_nodes, k))\n",
    "    for i in range(num_nodes): # for each row, ie each node\n",
    "        for j in range(k-1): # find the jth largest frequency\n",
    "            eigenvector[i][j] = np.real(heat_fft[i][j])\n",
    "            if eigenvector[i][j] > 0:\n",
    "                binary[i][j] = 1\n",
    "            else:\n",
    "                binary[i][j] = 0\n",
    "    cluster_num = [array_to_binary(binary[i]) for i in range(num_nodes)]\n",
    "    return cluster_num\n"
   ]
  },
  {
   "cell_type": "markdown",
   "metadata": {},
   "source": [
    "# Generating Data"
   ]
  },
  {
   "cell_type": "code",
   "execution_count": 136,
   "metadata": {},
   "outputs": [
    {
     "data": {
      "image/png": "[encoded data removed]",
      "text/plain": [
       "<Figure size 432x288 with 1 Axes>"
      ]
     },
     "metadata": {
      "needs_background": "light"
     },
     "output_type": "display_data"
    }
   ],
   "source": [
    "n_gaussians = 5\n",
    "n_pts = 4\n",
    "n = n_pts * n_gaussians\n",
    "d = 2\n",
    "\n",
    "data = gm(n_gaussians, n_pts, d, centroid_var=10)\n",
    "\n",
    "plt.scatter(*data.T)\n",
    "plt.xlabel(\"$x_1$\")\n",
    "plt.ylabel(\"$x_2$\")\n",
    "plt.title(\"Sample of Gaussian Mixture\")\n",
    "plt.show()"
   ]
  },
  {
   "cell_type": "markdown",
   "metadata": {},
   "source": [
    "# Standard Graph Spectral Clustering"
   ]
  },
  {
   "cell_type": "code",
   "execution_count": 137,
   "metadata": {},
   "outputs": [
    {
     "data": {
      "image/png": "[encoded data removed]",
      "text/plain": [
       "<Figure size 432x288 with 1 Axes>"
      ]
     },
     "metadata": {
      "needs_background": "light"
     },
     "output_type": "display_data"
    }
   ],
   "source": [
    "spectral = spectral_clustering(data, k=n_gaussians, lform=\"rw\", metric = \"g\", s=1)\n",
    "for i in range(len(spectral)):\n",
    "    d = data[spectral == i].T\n",
    "    x = d[0]\n",
    "    y = d[1]\n",
    "    plt.scatter(x,y)\n",
    "plt.title(\"Standard Spectral Clustering\")\n",
    "plt.show()"
   ]
  },
  {
   "cell_type": "markdown",
   "metadata": {},
   "source": [
    "# Hearing the Clusters"
   ]
  },
  {
   "cell_type": "code",
   "execution_count": 54,
   "metadata": {},
   "outputs": [],
   "source": [
    "S = np.diag(np.ones(199), k=1) + np.diag(np.ones(199), k=-1)\n",
    "S[100, 101] = 0.1\n",
    "S[101, 100] = 0.1\n",
    "L, deg = laplacian_matrix(S)\n",
    "L_norm = (1/deg).reshape((-1, 1)) * L\n",
    "\n",
    "k = 1\n",
    "T_max = 10000\n",
    "c = 1.41"
   ]
  },
  {
   "cell_type": "markdown",
   "metadata": {},
   "source": [
    "# Debugging"
   ]
  },
  {
   "cell_type": "code",
   "execution_count": 55,
   "metadata": {},
   "outputs": [],
   "source": [
    "n = len(L)\n",
    "\n",
    "def dctmtx(n, normalize=False):\n",
    "\td = sp.fftpack.dct(np.eye(n), axis=0)\n",
    "\tif(normalize):\n",
    "\t\td = d / np.sqrt(np.sum(d**2, axis=1))\n",
    "\treturn d"
   ]
  },
  {
   "cell_type": "code",
   "execution_count": 56,
   "metadata": {},
   "outputs": [],
   "source": [
    "heat = np.zeros(shape = (n, T_max + 1))\n",
    "\n",
    "M  = dctmtx(T_max+1, normalize=True)\n",
    "            \n",
    "heat[:, 0] = np.random.uniform(size = n)\n",
    "heat[:, 1] = heat[:, 0] \n",
    "\n",
    "for i in range(2, T_max + 1): \n",
    "    heat[:, i] = 2 * heat[:, i-1] - heat[:, i-2] - (c ** 2) * (L_norm @ heat[:, i-1])\n",
    "    heat_fft = np.fft.rfft(heat[1:], axis=1, norm=\"ortho\")\n",
    "\n",
    "\n",
    "#heat_fft = (heat - np.mean(heat, axis=1)[:, None]) @ M.T\n",
    "\n",
    "# we've tried: rfft, fft, dct, multiplication by a DCT matrix\n",
    "# observations: fft has a strange frequency gap, rfft seems closest to fig. 7\n",
    "#\n",
    "#\n",
    "indices = [sp.signal.find_peaks(np.abs(heat_fft[idx]))[0][:k] for idx in range(n-1)]\n",
    "\n",
    "\n",
    "binary = np.zeros(shape = (n, k))\n",
    "for i in range(n-1):\n",
    "    for j in range(k): \n",
    "        #if (M @ heat[i:i+1, :].T)[indices[i][j]] > 0:\n",
    "        if( np.real( heat_fft[i, indices[i][j]] ) > 0 ):\n",
    "            binary[i][j] = 1\n",
    "        else:\n",
    "            binary[i][j] = 0\n",
    "cluster_num = [array_to_binary(binary[i]) for i in range(n)]"
   ]
  },
  {
   "cell_type": "code",
   "execution_count": 61,
   "metadata": {},
   "outputs": [
    {
     "data": {
      "image/png": "[encoded data removed]",
      "text/plain": [
       "<Figure size 432x288 with 1 Axes>"
      ]
     },
     "metadata": {
      "needs_background": "light"
     },
     "output_type": "display_data"
    }
   ],
   "source": [
    "idx = 40\n",
    "plt.plot(np.abs(heat_fft[idx, 1:100]))\n",
    "plt.scatter(indices[idx], np.abs(heat_fft[idx, 1:100])[indices[idx]])\n",
    "plt.show()"
   ]
  },
  {
   "cell_type": "code",
   "execution_count": 58,
   "metadata": {},
   "outputs": [
    {
     "data": {
      "text/plain": [
       "[<matplotlib.lines.Line2D at 0x7fde3bab1850>]"
      ]
     },
     "execution_count": 58,
     "metadata": {},
     "output_type": "execute_result"
    },
    {
     "data": {
      "image/png": "[encoded data removed]",
      "text/plain": [
       "<Figure size 432x288 with 1 Axes>"
      ]
     },
     "metadata": {
      "needs_background": "light"
     },
     "output_type": "display_data"
    }
   ],
   "source": [
    "plt.plot(np.abs(heat_fft[20, :100]))"
   ]
  },
  {
   "cell_type": "code",
   "execution_count": 59,
   "metadata": {},
   "outputs": [
    {
     "data": {
      "text/plain": [
       "[1.0,\n",
       " 1.0,\n",
       " 1.0,\n",
       " 1.0,\n",
       " 1.0,\n",
       " 1.0,\n",
       " 1.0,\n",
       " 1.0,\n",
       " 1.0,\n",
       " 1.0,\n",
       " 1.0,\n",
       " 1.0,\n",
       " 1.0,\n",
       " 1.0,\n",
       " 1.0,\n",
       " 1.0,\n",
       " 1.0,\n",
       " 1.0,\n",
       " 1.0,\n",
       " 1.0,\n",
       " 1.0,\n",
       " 1.0,\n",
       " 1.0,\n",
       " 1.0,\n",
       " 1.0,\n",
       " 1.0,\n",
       " 1.0,\n",
       " 1.0,\n",
       " 1.0,\n",
       " 1.0,\n",
       " 1.0,\n",
       " 1.0,\n",
       " 1.0,\n",
       " 1.0,\n",
       " 1.0,\n",
       " 1.0,\n",
       " 1.0,\n",
       " 1.0,\n",
       " 1.0,\n",
       " 1.0,\n",
       " 1.0,\n",
       " 1.0,\n",
       " 1.0,\n",
       " 1.0,\n",
       " 1.0,\n",
       " 1.0,\n",
       " 1.0,\n",
       " 1.0,\n",
       " 1.0,\n",
       " 1.0,\n",
       " 1.0,\n",
       " 1.0,\n",
       " 1.0,\n",
       " 1.0,\n",
       " 1.0,\n",
       " 1.0,\n",
       " 1.0,\n",
       " 1.0,\n",
       " 1.0,\n",
       " 1.0,\n",
       " 1.0,\n",
       " 1.0,\n",
       " 1.0,\n",
       " 1.0,\n",
       " 1.0,\n",
       " 1.0,\n",
       " 1.0,\n",
       " 1.0,\n",
       " 1.0,\n",
       " 1.0,\n",
       " 1.0,\n",
       " 1.0,\n",
       " 1.0,\n",
       " 1.0,\n",
       " 1.0,\n",
       " 1.0,\n",
       " 1.0,\n",
       " 1.0,\n",
       " 1.0,\n",
       " 1.0,\n",
       " 1.0,\n",
       " 1.0,\n",
       " 1.0,\n",
       " 1.0,\n",
       " 1.0,\n",
       " 1.0,\n",
       " 1.0,\n",
       " 1.0,\n",
       " 1.0,\n",
       " 1.0,\n",
       " 1.0,\n",
       " 1.0,\n",
       " 1.0,\n",
       " 1.0,\n",
       " 1.0,\n",
       " 1.0,\n",
       " 1.0,\n",
       " 1.0,\n",
       " 1.0,\n",
       " 1.0,\n",
       " 0.0,\n",
       " 0.0,\n",
       " 0.0,\n",
       " 0.0,\n",
       " 0.0,\n",
       " 0.0,\n",
       " 0.0,\n",
       " 0.0,\n",
       " 0.0,\n",
       " 0.0,\n",
       " 0.0,\n",
       " 0.0,\n",
       " 0.0,\n",
       " 0.0,\n",
       " 0.0,\n",
       " 0.0,\n",
       " 0.0,\n",
       " 0.0,\n",
       " 0.0,\n",
       " 0.0,\n",
       " 0.0,\n",
       " 0.0,\n",
       " 0.0,\n",
       " 0.0,\n",
       " 0.0,\n",
       " 0.0,\n",
       " 0.0,\n",
       " 0.0,\n",
       " 0.0,\n",
       " 0.0,\n",
       " 0.0,\n",
       " 0.0,\n",
       " 0.0,\n",
       " 0.0,\n",
       " 0.0,\n",
       " 0.0,\n",
       " 0.0,\n",
       " 0.0,\n",
       " 0.0,\n",
       " 0.0,\n",
       " 0.0,\n",
       " 0.0,\n",
       " 0.0,\n",
       " 0.0,\n",
       " 0.0,\n",
       " 0.0,\n",
       " 0.0,\n",
       " 0.0,\n",
       " 0.0,\n",
       " 0.0,\n",
       " 0.0,\n",
       " 0.0,\n",
       " 0.0,\n",
       " 0.0,\n",
       " 0.0,\n",
       " 0.0,\n",
       " 0.0,\n",
       " 0.0,\n",
       " 0.0,\n",
       " 0.0,\n",
       " 0.0,\n",
       " 0.0,\n",
       " 0.0,\n",
       " 0.0,\n",
       " 0.0,\n",
       " 0.0,\n",
       " 0.0,\n",
       " 0.0,\n",
       " 0.0,\n",
       " 0.0,\n",
       " 0.0,\n",
       " 0.0,\n",
       " 0.0,\n",
       " 0.0,\n",
       " 0.0,\n",
       " 0.0,\n",
       " 0.0,\n",
       " 0.0,\n",
       " 0.0,\n",
       " 0.0,\n",
       " 0.0,\n",
       " 0.0,\n",
       " 0.0,\n",
       " 0.0,\n",
       " 0.0,\n",
       " 0.0,\n",
       " 0.0,\n",
       " 0.0,\n",
       " 0.0,\n",
       " 0.0,\n",
       " 0.0,\n",
       " 0.0,\n",
       " 0.0,\n",
       " 0.0,\n",
       " 0.0,\n",
       " 0.0,\n",
       " 0.0,\n",
       " 0.0,\n",
       " 0.0,\n",
       " 0.0]"
      ]
     },
     "execution_count": 59,
     "metadata": {},
     "output_type": "execute_result"
    }
   ],
   "source": [
    "cluster_num"
   ]
  },
  {
   "cell_type": "code",
   "execution_count": null,
   "metadata": {},
   "outputs": [],
   "source": []
  },
  {
   "cell_type": "code",
   "execution_count": null,
   "metadata": {},
   "outputs": [],
   "source": []
  }
 ],
 "metadata": {
  "kernelspec": {
   "display_name": "Python 3",
   "language": "python",
   "name": "python3"
  },
  "language_info": {
   "codemirror_mode": {
    "name": "ipython",
    "version": 3
   },
   "file_extension": ".py",
   "mimetype": "text/x-python",
   "name": "python",
   "nbconvert_exporter": "python",
   "pygments_lexer": "ipython3",
   "version": "3.7.4"
  }
 },
 "nbformat": 4,
 "nbformat_minor": 4
}
