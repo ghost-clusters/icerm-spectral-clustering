{
 "cells": [
  {
   "cell_type": "code",
   "execution_count": 1,
   "metadata": {},
   "outputs": [],
   "source": [
    "import numpy as np\n",
    "import matplotlib.pyplot as plt"
   ]
  },
  {
   "cell_type": "code",
   "execution_count": 2,
   "metadata": {},
   "outputs": [
    {
     "name": "stdout",
     "output_type": "stream",
     "text": [
      "[0.00995667 0.06113948 0.10702112 0.40274124 0.50493035]\n",
      "[[ 0.05118281 -0.05118281  0.          0.          0.        ]\n",
      " [-0.05118281  0.09706445 -0.04588164  0.          0.        ]\n",
      " [ 0.         -0.04588164  0.34160176 -0.29572012  0.        ]\n",
      " [ 0.          0.         -0.29572012  0.39790923 -0.10218911]\n",
      " [ 0.          0.          0.         -0.10218911  0.10218911]]\n"
     ]
    }
   ],
   "source": [
    "# draw n random points drawn from [0, 1] and initialize the laplacian matrix\n",
    "n=5\n",
    "sample = np.random.uniform(size = (n, ))\n",
    "ordered_list = np.sort(sample)\n",
    "print(ordered_list)\n",
    "laplacian = np.zeros((n, n))\n",
    "for i in range(n-1):\n",
    "    laplacian[i][i+1] = ordered_list[i] - ordered_list[i+1]\n",
    "    laplacian[i+1][i] = ordered_list[i] - ordered_list[i+1]\n",
    "for i in range(n):\n",
    "    laplacian[i][i] = -np.sum(laplacian[i])\n",
    "print(laplacian)"
   ]
  },
  {
   "cell_type": "code",
   "execution_count": 3,
   "metadata": {},
   "outputs": [
    {
     "ename": "SyntaxError",
     "evalue": "unexpected EOF while parsing (<ipython-input-3-2005fca8846d>, line 3)",
     "output_type": "error",
     "traceback": [
      "\u001b[1;36m  File \u001b[1;32m\"<ipython-input-3-2005fca8846d>\"\u001b[1;36m, line \u001b[1;32m3\u001b[0m\n\u001b[1;33m    \u001b[0m\n\u001b[1;37m    ^\u001b[0m\n\u001b[1;31mSyntaxError\u001b[0m\u001b[1;31m:\u001b[0m unexpected EOF while parsing\n"
     ]
    }
   ],
   "source": [
    "# cluster into k groups with a drift term delta\n",
    "def drift_cluster(k, delta):\n",
    "    "
   ]
  },
  {
   "cell_type": "code",
   "execution_count": null,
   "metadata": {},
   "outputs": [],
   "source": []
  }
 ],
 "metadata": {
  "kernelspec": {
   "display_name": "Python 3",
   "language": "python",
   "name": "python3"
  },
  "language_info": {
   "codemirror_mode": {
    "name": "ipython",
    "version": 3
   },
   "file_extension": ".py",
   "mimetype": "text/x-python",
   "name": "python",
   "nbconvert_exporter": "python",
   "pygments_lexer": "ipython3",
   "version": "3.7.4"
  }
 },
 "nbformat": 4,
 "nbformat_minor": 4
}
