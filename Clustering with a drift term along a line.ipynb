{
 "cells": [
  {
   "cell_type": "code",
   "execution_count": 1,
   "metadata": {},
   "outputs": [],
   "source": [
    "import numpy as np\n",
    "import matplotlib.pyplot as plt"
   ]
  },
  {
   "cell_type": "code",
   "execution_count": 8,
   "metadata": {},
   "outputs": [
    {
     "name": "stdout",
     "output_type": "stream",
     "text": [
      "[0.29766446 0.41729896 0.60395542 0.60467499 0.69573504]\n",
      "[[ 0.1196345  -0.1196345   0.          0.          0.        ]\n",
      " [-0.1196345   0.30629096 -0.18665646  0.          0.        ]\n",
      " [ 0.         -0.18665646  0.18737602 -0.00071957  0.        ]\n",
      " [ 0.          0.         -0.00071957  0.09177962 -0.09106006]\n",
      " [ 0.          0.          0.         -0.09106006  0.09106006]]\n"
     ]
    }
   ],
   "source": [
    "# draw n random points drawn from [0, 1] and initialize the laplacian matrix\n",
    "n=5\n",
    "sample = np.random.uniform(size = (n, ))\n",
    "ordered_list = np.sort(sample)\n",
    "print(ordered_list)\n",
    "laplacian = np.zeros((n, n))\n",
    "for i in range(n-1):\n",
    "    laplacian[i][i+1] = ordered_list[i] - ordered_list[i+1]\n",
    "    laplacian[i+1][i] = ordered_list[i] - ordered_list[i+1]\n",
    "for i in range(n):\n",
    "    laplacian[i][i] = -np.sum(laplacian[i])\n",
    "print(laplacian)"
   ]
  },
  {
   "cell_type": "code",
   "execution_count": null,
   "metadata": {},
   "outputs": [],
   "source": [
    "# cluster into k groups with a drift term delta\n",
    "def drift_cluster(k, delta):\n",
    "    "
   ]
  }
 ],
 "metadata": {
  "kernelspec": {
   "display_name": "Python 3",
   "language": "python",
   "name": "python3"
  },
  "language_info": {
   "codemirror_mode": {
    "name": "ipython",
    "version": 3
   },
   "file_extension": ".py",
   "mimetype": "text/x-python",
   "name": "python",
   "nbconvert_exporter": "python",
   "pygments_lexer": "ipython3",
   "version": "3.6.2"
  }
 },
 "nbformat": 4,
 "nbformat_minor": 4
}
